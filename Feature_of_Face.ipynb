{
  "nbformat": 4,
  "nbformat_minor": 0,
  "metadata": {
    "colab": {
      "provenance": [],
      "authorship_tag": "ABX9TyPr5Wd00mzMzd6S/bidalu+",
      "include_colab_link": true
    },
    "kernelspec": {
      "name": "python3",
      "display_name": "Python 3"
    },
    "language_info": {
      "name": "python"
    },
    "accelerator": "GPU",
    "gpuClass": "standard"
  },
  "cells": [
    {
      "cell_type": "markdown",
      "metadata": {
        "id": "view-in-github",
        "colab_type": "text"
      },
      "source": [
        "<a href=\"https://colab.research.google.com/github/haviet12/Artificial_Inteligent/blob/main/Feature_of_Face.ipynb\" target=\"_parent\"><img src=\"https://colab.research.google.com/assets/colab-badge.svg\" alt=\"Open In Colab\"/></a>"
      ]
    },
    {
      "cell_type": "code",
      "source": [
        "from google.colab import drive\n",
        "drive.mount('/content/drive')"
      ],
      "metadata": {
        "colab": {
          "base_uri": "https://localhost:8080/"
        },
        "id": "Dy1NaCLOBoVh",
        "outputId": "7f8eaf5e-77e1-44c5-eb00-62c25342a4d0"
      },
      "execution_count": 1,
      "outputs": [
        {
          "output_type": "stream",
          "name": "stdout",
          "text": [
            "Mounted at /content/drive\n"
          ]
        }
      ]
    },
    {
      "cell_type": "code",
      "source": [
        "import tensorflow as tf\n",
        "from tensorflow import keras\n",
        "import numpy as np\n",
        "import matplotlib.pyplot as plt\n",
        "from tensorflow.keras.preprocessing.image import ImageDataGenerator\n",
        "import os\n",
        "from keras.models import Sequential\n",
        "from keras.layers import Dense, Dropout, Conv2D, MaxPooling2D, Flatten\n",
        "from keras.optimizers import Adam\n",
        "from keras.layers import LeakyReLU\n",
        "\n",
        "from os import listdir\n",
        "from numpy import asarray,save\n",
        "from keras.utils import load_img, img_to_array"
      ],
      "metadata": {
        "id": "FAbnaBq7BwBu"
      },
      "execution_count": 2,
      "outputs": []
    },
    {
      "cell_type": "code",
      "source": [
        "img = load_img('/content/drive/MyDrive/MyPicture/Feature_OF_Face/test/6800.png')\n",
        "img.size"
      ],
      "metadata": {
        "id": "2i9Mkb0xIPXU",
        "outputId": "63e6a9fa-f1e5-479a-ea29-bdbf3a20d9cd",
        "colab": {
          "base_uri": "https://localhost:8080/"
        }
      },
      "execution_count": 30,
      "outputs": [
        {
          "output_type": "execute_result",
          "data": {
            "text/plain": [
              "(48, 48)"
            ]
          },
          "metadata": {},
          "execution_count": 30
        }
      ]
    },
    {
      "cell_type": "code",
      "source": [
        "### thay doi ti le anh tu 0->255 thanh 0->1\n",
        "train = ImageDataGenerator(rescale =1.0/255.0)\n",
        "val = ImageDataGenerator(rescale=1.0/255.0)"
      ],
      "metadata": {
        "id": "U8Ks0PSrB-9D"
      },
      "execution_count": 31,
      "outputs": []
    },
    {
      "cell_type": "code",
      "source": [
        "train_data = train.flow_from_directory('/content/drive/MyDrive/MyPicture/Feature_OF_Face/train', target_size=(48,48),class_mode='categorical')\n",
        "val_data = val.flow_from_directory('/content/drive/MyDrive/MyPicture/Feature_OF_Face/val', target_size=(48,48), class_mode='categorical')"
      ],
      "metadata": {
        "colab": {
          "base_uri": "https://localhost:8080/"
        },
        "id": "NB6R8m_3CBU_",
        "outputId": "5c0a5d62-556c-45ab-c44b-24a2b215aa30"
      },
      "execution_count": 38,
      "outputs": [
        {
          "output_type": "stream",
          "name": "stdout",
          "text": [
            "Found 13062 images belonging to 6 classes.\n",
            "Found 2963 images belonging to 6 classes.\n"
          ]
        }
      ]
    },
    {
      "cell_type": "code",
      "source": [
        "print('train_index :', train_data.class_indices)\n",
        "print('test_index:', val_data.class_indices)"
      ],
      "metadata": {
        "colab": {
          "base_uri": "https://localhost:8080/"
        },
        "id": "ndYBhJ2iCV9H",
        "outputId": "9585d15e-97d3-4423-98fe-366c209193d3"
      },
      "execution_count": 39,
      "outputs": [
        {
          "output_type": "stream",
          "name": "stdout",
          "text": [
            "train_index : {'Angry': 0, 'Disgust': 1, 'Fear': 2, 'Happy': 3, 'Sad': 4, 'Surprise': 5}\n",
            "test_index: {'Angry': 0, 'Disgust': 1, 'Fear': 2, 'Happy': 3, 'Sad': 4, 'Surprise': 5}\n"
          ]
        }
      ]
    },
    {
      "cell_type": "code",
      "source": [
        "model= Sequential()\n",
        "## lop CNN1\n",
        "model.add(Conv2D(32, kernel_size=(3,3), activation='linear',input_shape=(48,48,3), padding='same'))\n",
        "model.add(LeakyReLU(alpha=0.1))\n",
        "model.add(MaxPooling2D((2,2), padding='same'))\n",
        "## lop CNN2\n",
        "model.add(Conv2D(64,(3,3),activation='linear', padding='same'))\n",
        "model.add(LeakyReLU(alpha=0.1))\n",
        "model.add(MaxPooling2D((2,2), padding='same'))\n",
        "## lop CNN3\n",
        "model.add(Conv2D(128,(3,3),activation='linear', padding='same'))\n",
        "model.add(LeakyReLU(alpha=0.1))\n",
        "model.add(MaxPooling2D((2,2), padding='same'))\n",
        "\n",
        "batch_size=128\n",
        "epochs =30\n",
        "classes =6"
      ],
      "metadata": {
        "id": "VVVkPYCJC4Rt"
      },
      "execution_count": 40,
      "outputs": []
    },
    {
      "cell_type": "code",
      "source": [
        "# chuyen du lieu tu CNN ve ANN ( 2 chieu ve 1 chieu)\n",
        "model.add(Flatten())\n",
        "##lop hidden1\n",
        "model.add(Dense(256,activation='linear'))\n",
        "model.add(LeakyReLU(alpha=0.1))\n",
        "# lop outpu\n",
        "model.add(Dense(classes, activation='softmax'))"
      ],
      "metadata": {
        "id": "ZoTvIIjzDG1x"
      },
      "execution_count": 41,
      "outputs": []
    },
    {
      "cell_type": "code",
      "source": [
        "model.compile(loss='categorical_crossentropy', optimizer=Adam(), metrics=['accuracy'])\n",
        "model.summary()"
      ],
      "metadata": {
        "id": "Xcdv1PdIDJRZ",
        "outputId": "5cfccf27-65ea-46f2-8c4a-59a9b84bbc9e",
        "colab": {
          "base_uri": "https://localhost:8080/"
        }
      },
      "execution_count": 42,
      "outputs": [
        {
          "output_type": "stream",
          "name": "stdout",
          "text": [
            "Model: \"sequential_2\"\n",
            "_________________________________________________________________\n",
            " Layer (type)                Output Shape              Param #   \n",
            "=================================================================\n",
            " conv2d_6 (Conv2D)           (None, 48, 48, 32)        896       \n",
            "                                                                 \n",
            " leaky_re_lu_8 (LeakyReLU)   (None, 48, 48, 32)        0         \n",
            "                                                                 \n",
            " max_pooling2d_6 (MaxPooling  (None, 24, 24, 32)       0         \n",
            " 2D)                                                             \n",
            "                                                                 \n",
            " conv2d_7 (Conv2D)           (None, 24, 24, 64)        18496     \n",
            "                                                                 \n",
            " leaky_re_lu_9 (LeakyReLU)   (None, 24, 24, 64)        0         \n",
            "                                                                 \n",
            " max_pooling2d_7 (MaxPooling  (None, 12, 12, 64)       0         \n",
            " 2D)                                                             \n",
            "                                                                 \n",
            " conv2d_8 (Conv2D)           (None, 12, 12, 128)       73856     \n",
            "                                                                 \n",
            " leaky_re_lu_10 (LeakyReLU)  (None, 12, 12, 128)       0         \n",
            "                                                                 \n",
            " max_pooling2d_8 (MaxPooling  (None, 6, 6, 128)        0         \n",
            " 2D)                                                             \n",
            "                                                                 \n",
            " flatten_2 (Flatten)         (None, 4608)              0         \n",
            "                                                                 \n",
            " dense_4 (Dense)             (None, 256)               1179904   \n",
            "                                                                 \n",
            " leaky_re_lu_11 (LeakyReLU)  (None, 256)               0         \n",
            "                                                                 \n",
            " dense_5 (Dense)             (None, 6)                 1542      \n",
            "                                                                 \n",
            "=================================================================\n",
            "Total params: 1,274,694\n",
            "Trainable params: 1,274,694\n",
            "Non-trainable params: 0\n",
            "_________________________________________________________________\n"
          ]
        }
      ]
    },
    {
      "cell_type": "code",
      "source": [
        "history=model.fit(train_data,epochs=30,batch_size=64,verbose=1, \n",
        "                  validation_data=val_data)"
      ],
      "metadata": {
        "id": "Xv3jRU3aDLEK",
        "outputId": "06c49578-db62-48cd-cd44-86e823ef0872",
        "colab": {
          "base_uri": "https://localhost:8080/"
        }
      },
      "execution_count": 43,
      "outputs": [
        {
          "output_type": "stream",
          "name": "stdout",
          "text": [
            "Epoch 1/30\n",
            "409/409 [==============================] - 36s 85ms/step - loss: 1.5586 - accuracy: 0.3401 - val_loss: 1.4074 - val_accuracy: 0.4404\n",
            "Epoch 2/30\n",
            "409/409 [==============================] - 27s 67ms/step - loss: 1.3186 - accuracy: 0.4626 - val_loss: 1.2250 - val_accuracy: 0.5127\n",
            "Epoch 3/30\n",
            "409/409 [==============================] - 27s 67ms/step - loss: 1.1589 - accuracy: 0.5349 - val_loss: 1.2060 - val_accuracy: 0.5086\n",
            "Epoch 4/30\n",
            "409/409 [==============================] - 28s 67ms/step - loss: 1.0036 - accuracy: 0.5998 - val_loss: 1.1830 - val_accuracy: 0.5383\n",
            "Epoch 5/30\n",
            "409/409 [==============================] - 28s 68ms/step - loss: 0.8110 - accuracy: 0.6909 - val_loss: 1.1731 - val_accuracy: 0.5640\n",
            "Epoch 6/30\n",
            "409/409 [==============================] - 28s 67ms/step - loss: 0.6047 - accuracy: 0.7732 - val_loss: 1.2891 - val_accuracy: 0.5606\n",
            "Epoch 7/30\n",
            "409/409 [==============================] - 27s 67ms/step - loss: 0.3862 - accuracy: 0.8606 - val_loss: 1.6216 - val_accuracy: 0.5559\n",
            "Epoch 8/30\n",
            "409/409 [==============================] - 27s 67ms/step - loss: 0.2356 - accuracy: 0.9174 - val_loss: 1.7382 - val_accuracy: 0.5599\n",
            "Epoch 9/30\n",
            "409/409 [==============================] - 28s 67ms/step - loss: 0.1428 - accuracy: 0.9551 - val_loss: 2.1694 - val_accuracy: 0.5464\n",
            "Epoch 10/30\n",
            "409/409 [==============================] - 27s 67ms/step - loss: 0.1466 - accuracy: 0.9561 - val_loss: 2.3363 - val_accuracy: 0.5528\n",
            "Epoch 11/30\n",
            "409/409 [==============================] - 28s 68ms/step - loss: 0.0974 - accuracy: 0.9714 - val_loss: 2.5879 - val_accuracy: 0.5528\n",
            "Epoch 12/30\n",
            "409/409 [==============================] - 27s 66ms/step - loss: 0.0926 - accuracy: 0.9737 - val_loss: 2.5086 - val_accuracy: 0.5710\n",
            "Epoch 13/30\n",
            "409/409 [==============================] - 27s 67ms/step - loss: 0.0800 - accuracy: 0.9786 - val_loss: 2.7092 - val_accuracy: 0.5451\n",
            "Epoch 14/30\n",
            "409/409 [==============================] - 28s 68ms/step - loss: 0.0750 - accuracy: 0.9788 - val_loss: 2.9682 - val_accuracy: 0.5592\n",
            "Epoch 15/30\n",
            "409/409 [==============================] - 28s 68ms/step - loss: 0.0671 - accuracy: 0.9819 - val_loss: 2.8982 - val_accuracy: 0.5467\n",
            "Epoch 16/30\n",
            "409/409 [==============================] - 28s 68ms/step - loss: 0.0842 - accuracy: 0.9748 - val_loss: 2.9451 - val_accuracy: 0.5569\n",
            "Epoch 17/30\n",
            "409/409 [==============================] - 27s 67ms/step - loss: 0.0729 - accuracy: 0.9793 - val_loss: 2.9412 - val_accuracy: 0.5586\n",
            "Epoch 18/30\n",
            "409/409 [==============================] - 27s 66ms/step - loss: 0.0682 - accuracy: 0.9802 - val_loss: 3.3645 - val_accuracy: 0.5515\n",
            "Epoch 19/30\n",
            "409/409 [==============================] - 28s 68ms/step - loss: 0.0783 - accuracy: 0.9753 - val_loss: 3.3842 - val_accuracy: 0.5471\n",
            "Epoch 20/30\n",
            "409/409 [==============================] - 28s 67ms/step - loss: 0.0708 - accuracy: 0.9783 - val_loss: 3.1793 - val_accuracy: 0.5683\n",
            "Epoch 21/30\n",
            "409/409 [==============================] - 28s 68ms/step - loss: 0.0459 - accuracy: 0.9890 - val_loss: 3.4312 - val_accuracy: 0.5582\n",
            "Epoch 22/30\n",
            "409/409 [==============================] - 28s 68ms/step - loss: 0.0463 - accuracy: 0.9888 - val_loss: 3.3869 - val_accuracy: 0.5667\n",
            "Epoch 23/30\n",
            "409/409 [==============================] - 28s 67ms/step - loss: 0.0530 - accuracy: 0.9849 - val_loss: 3.4082 - val_accuracy: 0.5633\n",
            "Epoch 24/30\n",
            "409/409 [==============================] - 28s 68ms/step - loss: 0.1008 - accuracy: 0.9706 - val_loss: 3.2471 - val_accuracy: 0.5494\n",
            "Epoch 25/30\n",
            "409/409 [==============================] - 27s 67ms/step - loss: 0.0491 - accuracy: 0.9858 - val_loss: 3.4309 - val_accuracy: 0.5653\n",
            "Epoch 26/30\n",
            "409/409 [==============================] - 28s 67ms/step - loss: 0.0473 - accuracy: 0.9867 - val_loss: 3.5848 - val_accuracy: 0.5721\n",
            "Epoch 27/30\n",
            "409/409 [==============================] - 28s 69ms/step - loss: 0.0544 - accuracy: 0.9840 - val_loss: 3.6842 - val_accuracy: 0.5572\n",
            "Epoch 28/30\n",
            "409/409 [==============================] - 28s 67ms/step - loss: 0.0508 - accuracy: 0.9858 - val_loss: 3.5191 - val_accuracy: 0.5704\n",
            "Epoch 29/30\n",
            "409/409 [==============================] - 28s 67ms/step - loss: 0.0373 - accuracy: 0.9899 - val_loss: 3.6928 - val_accuracy: 0.5815\n",
            "Epoch 30/30\n",
            "409/409 [==============================] - 27s 67ms/step - loss: 0.0497 - accuracy: 0.9853 - val_loss: 4.0259 - val_accuracy: 0.5508\n"
          ]
        }
      ]
    },
    {
      "cell_type": "code",
      "source": [
        "value=model.evaluate(train_data,verbose=0)\n",
        "print('loss', value[0])\n",
        "print('accuracy', value[1])"
      ],
      "metadata": {
        "id": "o2D0yqkEaIfh",
        "outputId": "8cae26ab-855b-4476-a6a5-d31386d8cc5b",
        "colab": {
          "base_uri": "https://localhost:8080/"
        }
      },
      "execution_count": 44,
      "outputs": [
        {
          "output_type": "stream",
          "name": "stdout",
          "text": [
            "loss 0.07970179617404938\n",
            "accuracy 0.9758842587471008\n"
          ]
        }
      ]
    },
    {
      "cell_type": "code",
      "source": [
        "model.save('/content/drive/MyDrive/MyPicture/Feature_OF_Face/model_f.h5')\n",
        "accuracy =history.history['accuracy']\n",
        "loss = history.history['loss']\n",
        "epochs=range(len(accuracy))\n",
        "\n",
        "import matplotlib.pyplot as plt\n",
        "plt.plot(epochs, accuracy, 'bo', label='Training accuracy', color='green')\n",
        "plt.plot(epochs,loss , 'b', label ='Training loss')\n",
        "plt.show()"
      ],
      "metadata": {
        "id": "noZKw6BAaM5S",
        "outputId": "9b6908f4-d2b6-4df7-8fa0-9aef35d9fc12",
        "colab": {
          "base_uri": "https://localhost:8080/",
          "height": 485
        }
      },
      "execution_count": 45,
      "outputs": [
        {
          "output_type": "stream",
          "name": "stderr",
          "text": [
            "<ipython-input-45-a90348040cf5>:7: UserWarning: color is redundantly defined by the 'color' keyword argument and the fmt string \"bo\" (-> color='b'). The keyword argument will take precedence.\n",
            "  plt.plot(epochs, accuracy, 'bo', label='Training accuracy', color='green')\n"
          ]
        },
        {
          "output_type": "display_data",
          "data": {
            "text/plain": [
              "<Figure size 640x480 with 1 Axes>"
            ],
            "image/png": "[encoded data removed]"
          },
          "metadata": {}
        }
      ]
    },
    {
      "cell_type": "code",
      "source": [
        "emotion = ['Angry','Disgust','Fear','Happy','Sad','Surprise']\n",
        "\n",
        "filePath = '/content/drive/MyDrive/MyPicture/Feature_OF_Face/test/6802.png'\n",
        "testImage = load_img(filePath, color_mode = 'rgb', target_size=(48,48))\n",
        "arrayImage = img_to_array(testImage).reshape(1,48,48,3)/255\n",
        "pred = int(np.argmax(model.predict(arrayImage)))\n",
        "print(\"Predicted: \", emotion[pred])\n",
        "plt.imshow(testImage)"
      ],
      "metadata": {
        "id": "Ex_tjXqRaX9-",
        "outputId": "e6462eaa-e348-4359-b44d-f3dab3e43d05",
        "colab": {
          "base_uri": "https://localhost:8080/",
          "height": 483
        }
      },
      "execution_count": 46,
      "outputs": [
        {
          "output_type": "stream",
          "name": "stdout",
          "text": [
            "1/1 [==============================] - 0s 174ms/step\n",
            "Predicted:  Surprise\n"
          ]
        },
        {
          "output_type": "execute_result",
          "data": {
            "text/plain": [
              "<matplotlib.image.AxesImage at 0x7f4823174940>"
            ]
          },
          "metadata": {},
          "execution_count": 46
        },
        {
          "output_type": "display_data",
          "data": {
            "text/plain": [
              "<Figure size 640x480 with 1 Axes>"
            ],
            "image/png": "[encoded data removed]"
          },
          "metadata": {}
        }
      ]
    },
    {
      "cell_type": "code",
      "source": [
        "filePath = '/content/drive/MyDrive/MyPicture/Feature_OF_Face/test/6848.png'\n",
        "testImage = load_img(filePath, color_mode = 'rgb', target_size=(48,48))\n",
        "arrayImage = img_to_array(testImage).reshape(1,48,48,3)/255\n",
        "pred = int(np.argmax(model.predict(arrayImage)))\n",
        "print(\"Predicted: \", emotion[pred])\n",
        "plt.imshow(testImage)"
      ],
      "metadata": {
        "id": "ghT_NN3VbBRV",
        "outputId": "2066bd8c-1219-4d99-d347-a6adc28027f0",
        "colab": {
          "base_uri": "https://localhost:8080/",
          "height": 483
        }
      },
      "execution_count": 48,
      "outputs": [
        {
          "output_type": "stream",
          "name": "stdout",
          "text": [
            "1/1 [==============================] - 0s 99ms/step\n",
            "Predicted:  Sad\n"
          ]
        },
        {
          "output_type": "execute_result",
          "data": {
            "text/plain": [
              "<matplotlib.image.AxesImage at 0x7f47942e5550>"
            ]
          },
          "metadata": {},
          "execution_count": 48
        },
        {
          "output_type": "display_data",
          "data": {
            "text/plain": [
              "<Figure size 640x480 with 1 Axes>"
            ],
            "image/png": "[encoded data removed]"
          },
          "metadata": {}
        }
      ]
    },
    {
      "cell_type": "code",
      "source": [
        "filePath = '/content/drive/MyDrive/MyPicture/Feature_OF_Face/test/6870.png'\n",
        "testImage = load_img(filePath, color_mode = 'rgb', target_size=(48,48))\n",
        "arrayImage = img_to_array(testImage).reshape(1,48,48,3)/255\n",
        "pred = int(np.argmax(model.predict(arrayImage)))\n",
        "print(\"Predicted: \", emotion[pred])\n",
        "plt.imshow(testImage)"
      ],
      "metadata": {
        "id": "t6zQhZqdhZA3",
        "outputId": "c47ec262-c6b9-4036-c44a-4c6ee014b9cc",
        "colab": {
          "base_uri": "https://localhost:8080/",
          "height": 483
        }
      },
      "execution_count": 49,
      "outputs": [
        {
          "output_type": "stream",
          "name": "stdout",
          "text": [
            "1/1 [==============================] - 0s 18ms/step\n",
            "Predicted:  Happy\n"
          ]
        },
        {
          "output_type": "execute_result",
          "data": {
            "text/plain": [
              "<matplotlib.image.AxesImage at 0x7f47942c83d0>"
            ]
          },
          "metadata": {},
          "execution_count": 49
        },
        {
          "output_type": "display_data",
          "data": {
            "text/plain": [
              "<Figure size 640x480 with 1 Axes>"
            ],
            "image/png": "[encoded data removed]"
          },
          "metadata": {}
        }
      ]
    }
  ]
}