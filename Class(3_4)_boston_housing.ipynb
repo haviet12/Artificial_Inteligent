{
  "nbformat": 4,
  "nbformat_minor": 0,
  "metadata": {
    "colab": {
      "provenance": [],
      "authorship_tag": "ABX9TyN8qy/LjFjWSpbRjXOkLClj",
      "include_colab_link": true
    },
    "kernelspec": {
      "name": "python3",
      "display_name": "Python 3"
    },
    "language_info": {
      "name": "python"
    }
  },
  "cells": [
    {
      "cell_type": "markdown",
      "metadata": {
        "id": "view-in-github",
        "colab_type": "text"
      },
      "source": [
        "<a href=\"https://colab.research.google.com/github/haviet12/Artificial_Inteligent/blob/main/Class(3_4)_boston_housing.ipynb\" target=\"_parent\"><img src=\"https://colab.research.google.com/assets/colab-badge.svg\" alt=\"Open In Colab\"/></a>"
      ]
    },
    {
      "cell_type": "code",
      "execution_count": null,
      "metadata": {
        "colab": {
          "base_uri": "https://localhost:8080/"
        },
        "id": "luFtitV2pgSJ",
        "outputId": "af857d49-f3a8-4312-9e05-9aee9ca78546"
      },
      "outputs": [
        {
          "output_type": "stream",
          "name": "stdout",
          "text": [
            "(404, 13)\n",
            "(404,)\n",
            "(102, 13)\n",
            "(102,)\n"
          ]
        }
      ],
      "source": [
        "from keras.datasets import boston_housing\n",
        "import pandas as pd\n",
        "(x_train, y_train),(x_test,y_test)=boston_housing.load_data()\n",
        "print(x_train.shape)\n",
        "print(y_train.shape)\n",
        "print(x_test.shape)\n",
        "print(y_test.shape)"
      ]
    },
    {
      "cell_type": "code",
      "source": [
        "# # from seaborn import sns\n",
        "# from sklearn.preprocessing import StandardScaler\n",
        "# sc = StandardScaler()\n",
        "# sc.fit(x_train)\n",
        "# x_train_std=sc.transform(x_train)\n",
        "# x_test_std= sc.transform(x_test)\n",
        "\n"
      ],
      "metadata": {
        "id": "hAvAsp35saLG"
      },
      "execution_count": null,
      "outputs": []
    },
    {
      "cell_type": "code",
      "source": [
        "from keras import models\n",
        "from keras.models import Sequential\n",
        "from keras.layers import Dense\n",
        "from keras.utils import to_categorical\n",
        "model = Sequential()\n",
        "model.add(Dense(13, activation='relu',input_shape=(13,), name='input'))\n",
        "model.add(Dense(50, activation='relu', name='hiden_1'))\n",
        "model.add(Dense(20, activation='relu', name='hiden_2'))\n",
        "model.add(Dense(1, activation='linear', name='ouput'))\n",
        "model.summary()"
      ],
      "metadata": {
        "colab": {
          "base_uri": "https://localhost:8080/"
        },
        "id": "Q883Vex1upRz",
        "outputId": "60f359a2-a0ba-4ce8-c0ab-5df5811366d6"
      },
      "execution_count": null,
      "outputs": [
        {
          "output_type": "stream",
          "name": "stdout",
          "text": [
            "Model: \"sequential_2\"\n",
            "_________________________________________________________________\n",
            " Layer (type)                Output Shape              Param #   \n",
            "=================================================================\n",
            " input (Dense)               (None, 13)                182       \n",
            "                                                                 \n",
            " hiden_1 (Dense)             (None, 50)                700       \n",
            "                                                                 \n",
            " hiden_2 (Dense)             (None, 20)                1020      \n",
            "                                                                 \n",
            " ouput (Dense)               (None, 1)                 21        \n",
            "                                                                 \n",
            "=================================================================\n",
            "Total params: 1,923\n",
            "Trainable params: 1,923\n",
            "Non-trainable params: 0\n",
            "_________________________________________________________________\n"
          ]
        }
      ]
    },
    {
      "cell_type": "code",
      "source": [
        "# y_train=to_categorical(y_train,10)\n",
        "# y_test=to_categorical(y_test,10)\n",
        "model.compile(optimizer='Adam', loss='mean_absolute_error',metrics=['accuracy'])\n",
        "model.fit(x_train,y_train,epochs=10 )\n",
        "# print(f'loss={loss}')"
      ],
      "metadata": {
        "colab": {
          "base_uri": "https://localhost:8080/"
        },
        "id": "s9yCaxvWwEjE",
        "outputId": "d453e90e-7454-40b7-d1cf-39cbc0da2aac"
      },
      "execution_count": null,
      "outputs": [
        {
          "output_type": "stream",
          "name": "stdout",
          "text": [
            "Epoch 1/10\n",
            "13/13 [==============================] - 1s 2ms/step - loss: 32.4333 - accuracy: 0.0000e+00\n",
            "Epoch 2/10\n",
            "13/13 [==============================] - 0s 2ms/step - loss: 11.5030 - accuracy: 0.0000e+00\n",
            "Epoch 3/10\n",
            "13/13 [==============================] - 0s 2ms/step - loss: 7.6500 - accuracy: 0.0000e+00\n",
            "Epoch 4/10\n",
            "13/13 [==============================] - 0s 2ms/step - loss: 6.2683 - accuracy: 0.0000e+00\n",
            "Epoch 5/10\n",
            "13/13 [==============================] - 0s 2ms/step - loss: 5.7371 - accuracy: 0.0000e+00\n",
            "Epoch 6/10\n",
            "13/13 [==============================] - 0s 2ms/step - loss: 5.5453 - accuracy: 0.0000e+00\n",
            "Epoch 7/10\n",
            "13/13 [==============================] - 0s 2ms/step - loss: 5.4096 - accuracy: 0.0000e+00\n",
            "Epoch 8/10\n",
            "13/13 [==============================] - 0s 2ms/step - loss: 5.3137 - accuracy: 0.0000e+00\n",
            "Epoch 9/10\n",
            "13/13 [==============================] - 0s 2ms/step - loss: 5.2442 - accuracy: 0.0000e+00\n",
            "Epoch 10/10\n",
            "13/13 [==============================] - 0s 2ms/step - loss: 5.2712 - accuracy: 0.0000e+00\n"
          ]
        },
        {
          "output_type": "execute_result",
          "data": {
            "text/plain": [
              "<keras.callbacks.History at 0x7ff98e5a7af0>"
            ]
          },
          "metadata": {},
          "execution_count": 26
        }
      ]
    }
  ]
}