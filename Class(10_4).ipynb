{
  "nbformat": 4,
  "nbformat_minor": 0,
  "metadata": {
    "colab": {
      "provenance": [],
      "mount_file_id": "1wpLDKBWual9w6hhGGUqTkzSmmoRqu70p",
      "authorship_tag": "ABX9TyM6CDEXwaYKLe7poFpajM6M",
      "include_colab_link": true
    },
    "kernelspec": {
      "name": "python3",
      "display_name": "Python 3"
    },
    "language_info": {
      "name": "python"
    },
    "accelerator": "GPU",
    "gpuClass": "standard"
  },
  "cells": [
    {
      "cell_type": "markdown",
      "metadata": {
        "id": "view-in-github",
        "colab_type": "text"
      },
      "source": [
        "<a href=\"https://colab.research.google.com/github/haviet12/Artificial_Inteligent/blob/main/Class(10_4).ipynb\" target=\"_parent\"><img src=\"https://colab.research.google.com/assets/colab-badge.svg\" alt=\"Open In Colab\"/></a>"
      ]
    },
    {
      "cell_type": "code",
      "execution_count": null,
      "metadata": {
        "id": "pg3ae5nqRc1v"
      },
      "outputs": [],
      "source": [
        "from keras.datasets import cifar100\n",
        "(x_train, y_train), (x_test, y_test)=cifar100.load_data()"
      ]
    },
    {
      "cell_type": "code",
      "source": [
        "print(x_train.shape)\n",
        "print(y_train.shape)\n",
        "print(x_test.shape)\n",
        "print(y_test.shape)"
      ],
      "metadata": {
        "colab": {
          "base_uri": "https://localhost:8080/"
        },
        "id": "5WTi2jcwR94E",
        "outputId": "8644f22d-ce16-4644-fee8-6da15f3114db"
      },
      "execution_count": null,
      "outputs": [
        {
          "output_type": "stream",
          "name": "stdout",
          "text": [
            "(50000, 32, 32, 3)\n",
            "(50000, 1)\n",
            "(10000, 32, 32, 3)\n",
            "(10000, 1)\n"
          ]
        }
      ]
    },
    {
      "cell_type": "code",
      "source": [
        "# x_train =x_train.reshape(50000,32,32,3)\n",
        "x_train = x_train.astype('float')/255.0\n",
        "# x_test =x_test.reshape(10000,32,32,3)\n",
        "x_test = x_test.astype('float')/255.0\n",
        "print(x_train.shape)\n",
        "print(x_test.shape)"
      ],
      "metadata": {
        "colab": {
          "base_uri": "https://localhost:8080/"
        },
        "id": "VdlRZ_TsSF_K",
        "outputId": "5edfba0e-5336-4f15-9edf-1c7231e2b864"
      },
      "execution_count": null,
      "outputs": [
        {
          "output_type": "stream",
          "name": "stdout",
          "text": [
            "(50000, 32, 32, 3)\n",
            "(10000, 32, 32, 3)\n"
          ]
        }
      ]
    },
    {
      "cell_type": "code",
      "source": [
        "from keras.utils import to_categorical\n",
        "y_train = to_categorical(y_train,100)\n",
        "y_test = to_categorical(y_test,100)\n",
        "print(y_train.shape)\n",
        "print(y_test.shape)"
      ],
      "metadata": {
        "colab": {
          "base_uri": "https://localhost:8080/"
        },
        "id": "OuRw9_ROSZ0Z",
        "outputId": "e5a727e4-f36f-4937-e48a-94e6a80ade8a"
      },
      "execution_count": null,
      "outputs": [
        {
          "output_type": "stream",
          "name": "stdout",
          "text": [
            "(50000, 100)\n",
            "(10000, 100)\n"
          ]
        }
      ]
    },
    {
      "cell_type": "code",
      "source": [
        "from keras import models\n",
        "from keras.models import Sequential, Model\n",
        "from keras.layers import Dense, Dropout, Flatten, Conv2D, Normalization, MaxPooling2D\n",
        "from keras.optimizers import Adam\n",
        "from keras.layers import LeakyReLU\n",
        "\n",
        "\n",
        "############## \n",
        "batch_size=64\n",
        "epochs =20\n",
        "classes =100"
      ],
      "metadata": {
        "id": "P8elAEodSsb9"
      },
      "execution_count": null,
      "outputs": []
    },
    {
      "cell_type": "code",
      "source": [
        "model=Sequential()\n",
        "model.add(Conv2D(32, kernel_size=(3,3), activation='linear',input_shape=(32,32,3), padding='same'))\n",
        "model.add(LeakyReLU(alpha=0.1))\n",
        "model.add(MaxPooling2D((2,2), padding='same'))\n",
        "\n",
        "model.add(Conv2D(64,(3,3),activation='linear', padding='same'))\n",
        "model.add(LeakyReLU(alpha=0.1))\n",
        "model.add(MaxPooling2D((2,2), padding='same'))\n",
        "\n",
        "model.add(Conv2D(128,(3,3),activation='linear', padding='same'))\n",
        "model.add(LeakyReLU(alpha=0.1))\n",
        "model.add(MaxPooling2D((2,2), padding='same'))"
      ],
      "metadata": {
        "id": "l04xQzutSwSb"
      },
      "execution_count": null,
      "outputs": []
    },
    {
      "cell_type": "code",
      "source": [
        "model.add(Flatten())\n",
        "model.add(Dense(128,activation='linear'))\n",
        "model.add(LeakyReLU(alpha=0.1))\n",
        "model.add(Dense(classes, activation='softmax'))"
      ],
      "metadata": {
        "id": "eobNdcfSS4j6"
      },
      "execution_count": null,
      "outputs": []
    },
    {
      "cell_type": "code",
      "source": [
        "model.compile(loss='categorical_crossentropy', optimizer=Adam(), metrics=['accuracy'])\n",
        "model.summary()"
      ],
      "metadata": {
        "colab": {
          "base_uri": "https://localhost:8080/"
        },
        "id": "G4ztEDfbS6ty",
        "outputId": "d446d477-77ad-4b77-fdc0-6ea43932fce1"
      },
      "execution_count": null,
      "outputs": [
        {
          "output_type": "stream",
          "name": "stdout",
          "text": [
            "Model: \"sequential_4\"\n",
            "_________________________________________________________________\n",
            " Layer (type)                Output Shape              Param #   \n",
            "=================================================================\n",
            " conv2d_12 (Conv2D)          (None, 32, 32, 32)        896       \n",
            "                                                                 \n",
            " leaky_re_lu_15 (LeakyReLU)  (None, 32, 32, 32)        0         \n",
            "                                                                 \n",
            " max_pooling2d_12 (MaxPoolin  (None, 16, 16, 32)       0         \n",
            " g2D)                                                            \n",
            "                                                                 \n",
            " conv2d_13 (Conv2D)          (None, 16, 16, 64)        18496     \n",
            "                                                                 \n",
            " leaky_re_lu_16 (LeakyReLU)  (None, 16, 16, 64)        0         \n",
            "                                                                 \n",
            " max_pooling2d_13 (MaxPoolin  (None, 8, 8, 64)         0         \n",
            " g2D)                                                            \n",
            "                                                                 \n",
            " conv2d_14 (Conv2D)          (None, 8, 8, 128)         73856     \n",
            "                                                                 \n",
            " leaky_re_lu_17 (LeakyReLU)  (None, 8, 8, 128)         0         \n",
            "                                                                 \n",
            " max_pooling2d_14 (MaxPoolin  (None, 4, 4, 128)        0         \n",
            " g2D)                                                            \n",
            "                                                                 \n",
            " flatten_3 (Flatten)         (None, 2048)              0         \n",
            "                                                                 \n",
            " dense_6 (Dense)             (None, 128)               262272    \n",
            "                                                                 \n",
            " leaky_re_lu_18 (LeakyReLU)  (None, 128)               0         \n",
            "                                                                 \n",
            " dense_7 (Dense)             (None, 100)               12900     \n",
            "                                                                 \n",
            "=================================================================\n",
            "Total params: 368,420\n",
            "Trainable params: 368,420\n",
            "Non-trainable params: 0\n",
            "_________________________________________________________________\n"
          ]
        }
      ]
    },
    {
      "cell_type": "code",
      "source": [
        "train = model.fit(x_train, y_train, batch_size, epochs=epochs, verbose=1)"
      ],
      "metadata": {
        "colab": {
          "base_uri": "https://localhost:8080/"
        },
        "id": "L4q7zUwQTa5N",
        "outputId": "1bb09705-2fb6-4c4d-9f4c-3e2999995daf"
      },
      "execution_count": null,
      "outputs": [
        {
          "output_type": "stream",
          "name": "stdout",
          "text": [
            "Epoch 1/20\n",
            "782/782 [==============================] - 12s 5ms/step - loss: 3.5501 - accuracy: 0.1670\n",
            "Epoch 2/20\n",
            "782/782 [==============================] - 4s 5ms/step - loss: 2.6616 - accuracy: 0.3296\n",
            "Epoch 3/20\n",
            "782/782 [==============================] - 4s 6ms/step - loss: 2.2635 - accuracy: 0.4144\n",
            "Epoch 4/20\n",
            "782/782 [==============================] - 4s 5ms/step - loss: 1.9824 - accuracy: 0.4752\n",
            "Epoch 5/20\n",
            "782/782 [==============================] - 4s 5ms/step - loss: 1.7424 - accuracy: 0.5311\n",
            "Epoch 6/20\n",
            "782/782 [==============================] - 4s 5ms/step - loss: 1.5296 - accuracy: 0.5799\n",
            "Epoch 7/20\n",
            "782/782 [==============================] - 4s 5ms/step - loss: 1.3258 - accuracy: 0.6299\n",
            "Epoch 8/20\n",
            "782/782 [==============================] - 4s 5ms/step - loss: 1.1432 - accuracy: 0.6759\n",
            "Epoch 9/20\n",
            "782/782 [==============================] - 4s 5ms/step - loss: 0.9724 - accuracy: 0.7180\n",
            "Epoch 10/20\n",
            "782/782 [==============================] - 4s 6ms/step - loss: 0.8144 - accuracy: 0.7577\n",
            "Epoch 11/20\n",
            "782/782 [==============================] - 4s 5ms/step - loss: 0.6733 - accuracy: 0.7959\n",
            "Epoch 12/20\n",
            "782/782 [==============================] - 4s 5ms/step - loss: 0.5705 - accuracy: 0.8245\n",
            "Epoch 13/20\n",
            "782/782 [==============================] - 4s 5ms/step - loss: 0.4890 - accuracy: 0.8463\n",
            "Epoch 14/20\n",
            "782/782 [==============================] - 4s 5ms/step - loss: 0.4001 - accuracy: 0.8736\n",
            "Epoch 15/20\n",
            "782/782 [==============================] - 4s 5ms/step - loss: 0.3457 - accuracy: 0.8894\n",
            "Epoch 16/20\n",
            "782/782 [==============================] - 4s 5ms/step - loss: 0.3175 - accuracy: 0.8963\n",
            "Epoch 17/20\n",
            "782/782 [==============================] - 4s 5ms/step - loss: 0.2905 - accuracy: 0.9033\n",
            "Epoch 18/20\n",
            "782/782 [==============================] - 4s 5ms/step - loss: 0.2476 - accuracy: 0.9170\n",
            "Epoch 19/20\n",
            "782/782 [==============================] - 4s 5ms/step - loss: 0.2429 - accuracy: 0.9194\n",
            "Epoch 20/20\n",
            "782/782 [==============================] - 4s 5ms/step - loss: 0.2305 - accuracy: 0.9236\n"
          ]
        }
      ]
    },
    {
      "cell_type": "code",
      "source": [
        "model.save('/content/drive/MyDrive/MyPicture/CNN/model.h5')"
      ],
      "metadata": {
        "id": "rxRKy-U2S-eF"
      },
      "execution_count": null,
      "outputs": []
    }
  ]
}