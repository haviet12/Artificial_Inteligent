{
  "nbformat": 4,
  "nbformat_minor": 0,
  "metadata": {
    "colab": {
      "provenance": []
    },
    "kernelspec": {
      "name": "python3",
      "display_name": "Python 3"
    },
    "language_info": {
      "name": "python"
    },
    "accelerator": "GPU",
    "gpuClass": "standard"
  },
  "cells": [
    {
      "cell_type": "code",
      "execution_count": null,
      "metadata": {
        "colab": {
          "base_uri": "https://localhost:8080/"
        },
        "id": "4Gafkl115Ewx",
        "outputId": "fcc741fb-61b1-470a-a128-7fd81531cc1b"
      },
      "outputs": [
        {
          "output_type": "stream",
          "name": "stdout",
          "text": [
            "Looking in indexes: https://pypi.org/simple, https://us-python.pkg.dev/colab-wheels/public/simple/\n",
            "Collecting youtube-search\n",
            "  Downloading youtube_search-2.1.2-py3-none-any.whl (3.4 kB)\n",
            "Requirement already satisfied: requests in /usr/local/lib/python3.10/dist-packages (from youtube-search) (2.27.1)\n",
            "Requirement already satisfied: certifi>=2017.4.17 in /usr/local/lib/python3.10/dist-packages (from requests->youtube-search) (2022.12.7)\n",
            "Requirement already satisfied: idna<4,>=2.5 in /usr/local/lib/python3.10/dist-packages (from requests->youtube-search) (3.4)\n",
            "Requirement already satisfied: urllib3<1.27,>=1.21.1 in /usr/local/lib/python3.10/dist-packages (from requests->youtube-search) (1.26.15)\n",
            "Requirement already satisfied: charset-normalizer~=2.0.0 in /usr/local/lib/python3.10/dist-packages (from requests->youtube-search) (2.0.12)\n",
            "Installing collected packages: youtube-search\n",
            "Successfully installed youtube-search-2.1.2\n"
          ]
        }
      ],
      "source": [
        "pip install youtube-search\n"
      ]
    },
    {
      "cell_type": "code",
      "source": [
        "from youtube_search import YoutubeSearch\n",
        "import webbrowser\n",
        "\n",
        "mysong = input('nhap vao ten bai hat can tim:')\n",
        "result = YoutubeSearch(mysong , max_results =10).to_dict()\n",
        "print(result)"
      ],
      "metadata": {
        "colab": {
          "base_uri": "https://localhost:8080/"
        },
        "id": "OZKv7IwU9UWl",
        "outputId": "86f16cfc-5083-4686-ca18-b0af47d1bf96"
      },
      "execution_count": null,
      "outputs": [
        {
          "output_type": "stream",
          "name": "stdout",
          "text": [
            "nhap vao ten bai hat can tim:making my way\n",
            "[{'id': 'niPkap1ozUA', 'thumbnails': ['https://i.ytimg.com/vi/niPkap1ozUA/hq720.jpg?sqp=-oaymwEjCOgCEMoBSFryq4qpAxUIARUAAAAAGAElAADIQj0AgKJDeAE=&rs=AOn4CLBKiM_Xsi8XaAZzMPuQR0XyjdCZLA', 'https://i.ytimg.com/vi/niPkap1ozUA/hq720.jpg?sqp=-oaymwEXCNAFEJQDSFryq4qpAwkIARUAAIhCGAE=&rs=AOn4CLCymUDrIxZZ8o4f7IUcbKHSTaA1og'], 'title': 'SON TUNG M-TP | MAKING MY WAY | OFFICIAL VISUALIZER', 'long_desc': None, 'channel': 'Sơn Tùng M-TP Official', 'duration': '4:18', 'views': '7,929,690 views', 'publish_time': '1 day ago', 'url_suffix': '/watch?v=niPkap1ozUA&pp=ygUNbWFraW5nIG15IHdheQ%3D%3D'}, {'id': 'jFFfnkuNrCs', 'thumbnails': ['https://i.ytimg.com/vi/jFFfnkuNrCs/hq720.jpg?sqp=-oaymwEjCOgCEMoBSFryq4qpAxUIARUAAAAAGAElAADIQj0AgKJDeAE=&rs=AOn4CLAimvgY0VcZbo1SYtha4OK51xndkA', 'https://i.ytimg.com/vi/jFFfnkuNrCs/hq720.jpg?sqp=-oaymwEXCNAFEJQDSFryq4qpAwkIARUAAIhCGAE=&rs=AOn4CLB7pVFExj0ElRyAjw7R9dA-kp1hKw'], 'title': \"Making my way của Sơn Tùng M-TP đứng đầu thế giới dù bị tố 'đạo nhạc'\", 'long_desc': None, 'channel': 'Báo Tuổi Trẻ', 'duration': '1:36', 'views': '26,113 views', 'publish_time': '7 hours ago', 'url_suffix': '/watch?v=jFFfnkuNrCs&pp=ygUNbWFraW5nIG15IHdheQ%3D%3D'}, {'id': 'Gs__5II_v0I', 'thumbnails': ['https://i.ytimg.com/vi/Gs__5II_v0I/hq720.jpg?sqp=-oaymwEjCOgCEMoBSFryq4qpAxUIARUAAAAAGAElAADIQj0AgKJDeAE=&rs=AOn4CLBz--cu6aniYQoV-jEUtq7y9nnTUg', 'https://i.ytimg.com/vi/Gs__5II_v0I/hq720.jpg?sqp=-oaymwEXCNAFEJQDSFryq4qpAwkIARUAAIhCGAE=&rs=AOn4CLC2aTV2STMISaDxFTr7w_kZ-2zPgA'], 'title': '𝐒𝐎𝐍 𝐓𝐔𝐍𝐆 𝐌-𝐓𝐏 | 𝐌𝐀𝐊𝐈𝐍𝐆 𝐌𝐘 𝐖𝐀𝐘 | 𝐎𝐅𝐅𝐈𝐂𝐈𝐀𝐋 𝐕𝐈𝐒𝐔𝐀𝐋𝐈𝐙𝐄𝐑 | 𝐄𝐎𝐍𝐍𝐈𝟖𝟖', 'long_desc': None, 'channel': 'Angelina Eonni88', 'duration': '9:19', 'views': '21,537 views', 'publish_time': '13 hours ago', 'url_suffix': '/watch?v=Gs__5II_v0I&pp=ygUNbWFraW5nIG15IHdheQ%3D%3D'}, {'id': 'LL8c43uml_0', 'thumbnails': ['https://i.ytimg.com/vi/LL8c43uml_0/hq720.jpg?sqp=-oaymwEjCOgCEMoBSFryq4qpAxUIARUAAAAAGAElAADIQj0AgKJDeAE=&rs=AOn4CLDBq5yau4wV_YBIBK1s7YDtiWoziQ', 'https://i.ytimg.com/vi/LL8c43uml_0/hq720.jpg?sqp=-oaymwEXCNAFEJQDSFryq4qpAwkIARUAAIhCGAE=&rs=AOn4CLAL_6PSyIgzi6teUYSPf6PWSAVShA'], 'title': 'Sơn Tùng M-TP| MAKING MY WAY | OFFICIAL VISUALIZER | 🇵🇭REACTION!!!', 'long_desc': None, 'channel': 'Joyce Flang', 'duration': '13:37', 'views': '13,665 views', 'publish_time': '5 hours ago', 'url_suffix': '/watch?v=LL8c43uml_0&pp=ygUNbWFraW5nIG15IHdheQ%3D%3D'}, {'id': 'X1LHbpH8ch8', 'thumbnails': ['https://i.ytimg.com/vi/X1LHbpH8ch8/hq720.jpg?sqp=-oaymwEjCOgCEMoBSFryq4qpAxUIARUAAAAAGAElAADIQj0AgKJDeAE=&rs=AOn4CLBzxoC36EA3zyZGTRhjXVuKwBEEUQ', 'https://i.ytimg.com/vi/X1LHbpH8ch8/hq720.jpg?sqp=-oaymwEXCNAFEJQDSFryq4qpAwkIARUAAIhCGAE=&rs=AOn4CLBz0-7lqDAOzgyYLjcVjwum27LkbQ'], 'title': 'MAKING MY WAY - SON TUNG M-TP (Lyrics & Vietsub)', 'long_desc': None, 'channel': 'Fall In Luv', 'duration': '4:19', 'views': '60,087 views', 'publish_time': '23 hours ago', 'url_suffix': '/watch?v=X1LHbpH8ch8&pp=ygUNbWFraW5nIG15IHdheQ%3D%3D'}, {'id': '5E2mWelrLos', 'thumbnails': ['https://i.ytimg.com/vi/5E2mWelrLos/hq720.jpg?sqp=-oaymwEjCOgCEMoBSFryq4qpAxUIARUAAAAAGAElAADIQj0AgKJDeAE=&rs=AOn4CLBOUoaDP1tJroVEosFJgt_0wRQtpw', 'https://i.ytimg.com/vi/5E2mWelrLos/hq720.jpg?sqp=-oaymwEXCNAFEJQDSFryq4qpAwkIARUAAIhCGAE=&rs=AOn4CLBpoqhzxsbzZHYcWvxMOUiLAqfPFA'], 'title': 'SON TUNG M-TP | MAKING MY WAY | FOREIGNER REACTION | OFFICIAL VISUALIZER - TEACHER PAUL REACTS', 'long_desc': None, 'channel': 'TEACHER PAUL REACTS', 'duration': '5:24', 'views': '132,516 views', 'publish_time': '1 day ago', 'url_suffix': '/watch?v=5E2mWelrLos&pp=ygUNbWFraW5nIG15IHdheQ%3D%3D'}, {'id': 'Cwkej79U3ek', 'thumbnails': ['https://i.ytimg.com/vi/Cwkej79U3ek/hq720.jpg?sqp=-oaymwEjCOgCEMoBSFryq4qpAxUIARUAAAAAGAElAADIQj0AgKJDeAE=&rs=AOn4CLC6Qj4BOVJyJXKxRr3ZGi6FpywcSA', 'https://i.ytimg.com/vi/Cwkej79U3ek/hq720.jpg?sqp=-oaymwEXCNAFEJQDSFryq4qpAwkIARUAAIhCGAE=&rs=AOn4CLAu6yZEGyE2OkkffB3SalH_MqRXRQ'], 'title': 'Vanessa Carlton - A Thousand Miles', 'long_desc': None, 'channel': 'Vanessa Carlton', 'duration': '4:27', 'views': '354,486,783 views', 'publish_time': '13 years ago', 'url_suffix': '/watch?v=Cwkej79U3ek&pp=ygUNbWFraW5nIG15IHdheQ%3D%3D'}, {'id': 'VGXm6muC1O4', 'thumbnails': ['https://i.ytimg.com/vi/VGXm6muC1O4/hq720.jpg?sqp=-oaymwEjCOgCEMoBSFryq4qpAxUIARUAAAAAGAElAADIQj0AgKJDeAE=&rs=AOn4CLCKJOYQsQfP__HV3j3jVYtC8Ms_1g', 'https://i.ytimg.com/vi/VGXm6muC1O4/hq720.jpg?sqp=-oaymwEXCNAFEJQDSFryq4qpAwkIARUAAIhCGAE=&rs=AOn4CLCOd4gKlcO7PMaWKbN-kfhXmUrXQw'], 'title': 'Flamingo Sings Making My Way Downtown', 'long_desc': None, 'channel': 'Glitch', 'duration': '1:17', 'views': '3,682,699 views', 'publish_time': '3 years ago', 'url_suffix': '/watch?v=VGXm6muC1O4&pp=ygUNbWFraW5nIG15IHdheQ%3D%3D'}, {'id': 'rfddFJAE8Vc', 'thumbnails': ['https://i.ytimg.com/vi/rfddFJAE8Vc/hq720.jpg?sqp=-oaymwEjCOgCEMoBSFryq4qpAxUIARUAAAAAGAElAADIQj0AgKJDeAE=&rs=AOn4CLCtzX5eQcT-Cz8zeF6t7fROwzDLWw', 'https://i.ytimg.com/vi/rfddFJAE8Vc/hq720.jpg?sqp=-oaymwEXCNAFEJQDSFryq4qpAwkIARUAAIhCGAE=&rs=AOn4CLCCJyljR3NqWWyK61fLh0vkvEljRA'], 'title': 'SON TUNG M-TP | MAKING MY WAY | OFFICIAL VISUALIZER | REACTION🇻🇳', 'long_desc': None, 'channel': 'Tim & Vena Adventures', 'duration': '6:17', 'views': '7,803 views', 'publish_time': '9 hours ago', 'url_suffix': '/watch?v=rfddFJAE8Vc&pp=ygUNbWFraW5nIG15IHdheQ%3D%3D'}, {'id': 'AlZI7rf2-jo', 'thumbnails': ['https://i.ytimg.com/vi/AlZI7rf2-jo/hq720.jpg?sqp=-oaymwE9COgCEMoBSFryq4qpAy8IARUAAAAAGAElAADIQj0AgKJDeAHwAQH4Af4JgALQBYoCDAgAEAEYZSBWKEMwDw==&rs=AOn4CLCUPBvavYe9rj4KOnPky4rM4IoUOQ', 'https://i.ytimg.com/vi/AlZI7rf2-jo/hq720.jpg?sqp=-oaymwExCNAFEJQDSFryq4qpAyMIARUAAIhCGAHwAQH4Af4JgALQBYoCDAgAEAEYZSBWKEMwDw==&rs=AOn4CLBOBMgKEa6jfnvkmK7FIeoPWzqhMQ'], 'title': '\"Makin\\' My Way\" - The Legend of Vox Machina S2E7', 'long_desc': None, 'channel': 'MisterRandom2', 'duration': '1:01', 'views': '395,535 views', 'publish_time': '3 months ago', 'url_suffix': '/watch?v=AlZI7rf2-jo&pp=ygUNbWFraW5nIG15IHdheQ%3D%3D'}]\n"
          ]
        }
      ]
    },
    {
      "cell_type": "code",
      "source": [
        "for i in range (10):\n",
        "  url = 'http://www.youtube.com'+result[i]['url_suffix']\n",
        "  print(url)\n",
        "  # webbrowser(url)"
      ],
      "metadata": {
        "colab": {
          "base_uri": "https://localhost:8080/"
        },
        "id": "X6618E3I-QJC",
        "outputId": "dd3a2e74-e397-44fe-8b1c-bd1f9107d676"
      },
      "execution_count": null,
      "outputs": [
        {
          "output_type": "stream",
          "name": "stdout",
          "text": [
            "http://www.youtube.com/watch?v=niPkap1ozUA&pp=ygUNbWFraW5nIG15IHdheQ%3D%3D\n",
            "http://www.youtube.com/watch?v=jFFfnkuNrCs&pp=ygUNbWFraW5nIG15IHdheQ%3D%3D\n",
            "http://www.youtube.com/watch?v=Gs__5II_v0I&pp=ygUNbWFraW5nIG15IHdheQ%3D%3D\n",
            "http://www.youtube.com/watch?v=LL8c43uml_0&pp=ygUNbWFraW5nIG15IHdheQ%3D%3D\n",
            "http://www.youtube.com/watch?v=X1LHbpH8ch8&pp=ygUNbWFraW5nIG15IHdheQ%3D%3D\n",
            "http://www.youtube.com/watch?v=5E2mWelrLos&pp=ygUNbWFraW5nIG15IHdheQ%3D%3D\n",
            "http://www.youtube.com/watch?v=Cwkej79U3ek&pp=ygUNbWFraW5nIG15IHdheQ%3D%3D\n",
            "http://www.youtube.com/watch?v=VGXm6muC1O4&pp=ygUNbWFraW5nIG15IHdheQ%3D%3D\n",
            "http://www.youtube.com/watch?v=rfddFJAE8Vc&pp=ygUNbWFraW5nIG15IHdheQ%3D%3D\n",
            "http://www.youtube.com/watch?v=AlZI7rf2-jo&pp=ygUNbWFraW5nIG15IHdheQ%3D%3D\n"
          ]
        }
      ]
    },
    {
      "cell_type": "code",
      "source": [
        "pip install openpyxl\n"
      ],
      "metadata": {
        "colab": {
          "base_uri": "https://localhost:8080/"
        },
        "id": "F4sr2UHnALgb",
        "outputId": "e31281eb-5d5a-4e8b-bde5-e5dad67576f1"
      },
      "execution_count": null,
      "outputs": [
        {
          "output_type": "stream",
          "name": "stdout",
          "text": [
            "Looking in indexes: https://pypi.org/simple, https://us-python.pkg.dev/colab-wheels/public/simple/\n",
            "Requirement already satisfied: openpyxl in /usr/local/lib/python3.10/dist-packages (3.0.10)\n",
            "Requirement already satisfied: et-xmlfile in /usr/local/lib/python3.10/dist-packages (from openpyxl) (1.1.0)\n"
          ]
        }
      ]
    },
    {
      "cell_type": "code",
      "source": [
        "from youtube_search import YoutubeSearch\n",
        "import webbrowser\n",
        "from openpyxl import Workbook"
      ],
      "metadata": {
        "id": "RY-HdxPKAUGo"
      },
      "execution_count": null,
      "outputs": []
    },
    {
      "cell_type": "code",
      "source": [
        "\n",
        "mysong = input('nhap vao ten bai hat can tim:')\n",
        "result = YoutubeSearch(mysong , max_results =10).to_dict()\n",
        "print(result)\n",
        "data = Workbook()\n",
        "sheet = data.active\n",
        "\n",
        "for i in range(10):\n",
        "  print(result[i]['title'])\n",
        "  print(result[i]['url_suffix'])\n",
        "  url = 'http://www.youtube.com' + result[i]['url_suffix']\n",
        "  print(url)\n",
        "  sheet['A'+str(i+1)]=  i+1\n",
        "  sheet['B'+str(i+1)]=  result[i]['title']\n",
        "  sheet['C'+str(i+1)]=  result[i]['url_suffix']\n",
        "  sheet['D'+str(i+1)]=  result[i]['views']\n",
        "  sheet['E'+str(i+1)]=  result[i]['publish_time']\n",
        "  sheet['F'+str(i+1)]=  result[i]['duration']\n",
        "data.save('making_my_way.xlsx')\n",
        "\n"
      ],
      "metadata": {
        "colab": {
          "base_uri": "https://localhost:8080/"
        },
        "id": "W8NHVUkVAZFb",
        "outputId": "392e4693-d893-4398-dc98-4f6e78f8253a"
      },
      "execution_count": null,
      "outputs": [
        {
          "output_type": "stream",
          "name": "stdout",
          "text": [
            "nhap vao ten bai hat can tim:making my way\n",
            "[{'id': 'niPkap1ozUA', 'thumbnails': ['https://i.ytimg.com/vi/niPkap1ozUA/hq720.jpg?sqp=-oaymwEjCOgCEMoBSFryq4qpAxUIARUAAAAAGAElAADIQj0AgKJDeAE=&rs=AOn4CLBKiM_Xsi8XaAZzMPuQR0XyjdCZLA', 'https://i.ytimg.com/vi/niPkap1ozUA/hq720.jpg?sqp=-oaymwEXCNAFEJQDSFryq4qpAwkIARUAAIhCGAE=&rs=AOn4CLCymUDrIxZZ8o4f7IUcbKHSTaA1og'], 'title': 'SON TUNG M-TP | MAKING MY WAY | OFFICIAL VISUALIZER', 'long_desc': None, 'channel': 'Sơn Tùng M-TP Official', 'duration': '4:18', 'views': '7,935,701 views', 'publish_time': '1 day ago', 'url_suffix': '/watch?v=niPkap1ozUA&pp=ygUNbWFraW5nIG15IHdheQ%3D%3D'}, {'id': 'jFFfnkuNrCs', 'thumbnails': ['https://i.ytimg.com/vi/jFFfnkuNrCs/hq720.jpg?sqp=-oaymwEjCOgCEMoBSFryq4qpAxUIARUAAAAAGAElAADIQj0AgKJDeAE=&rs=AOn4CLAimvgY0VcZbo1SYtha4OK51xndkA', 'https://i.ytimg.com/vi/jFFfnkuNrCs/hq720.jpg?sqp=-oaymwEXCNAFEJQDSFryq4qpAwkIARUAAIhCGAE=&rs=AOn4CLB7pVFExj0ElRyAjw7R9dA-kp1hKw'], 'title': \"Making my way của Sơn Tùng M-TP đứng đầu thế giới dù bị tố 'đạo nhạc'\", 'long_desc': None, 'channel': 'Báo Tuổi Trẻ', 'duration': '1:36', 'views': '26,697 views', 'publish_time': '7 hours ago', 'url_suffix': '/watch?v=jFFfnkuNrCs&pp=ygUNbWFraW5nIG15IHdheQ%3D%3D'}, {'id': 'Gs__5II_v0I', 'thumbnails': ['https://i.ytimg.com/vi/Gs__5II_v0I/hq720.jpg?sqp=-oaymwEjCOgCEMoBSFryq4qpAxUIARUAAAAAGAElAADIQj0AgKJDeAE=&rs=AOn4CLBz--cu6aniYQoV-jEUtq7y9nnTUg', 'https://i.ytimg.com/vi/Gs__5II_v0I/hq720.jpg?sqp=-oaymwEXCNAFEJQDSFryq4qpAwkIARUAAIhCGAE=&rs=AOn4CLC2aTV2STMISaDxFTr7w_kZ-2zPgA'], 'title': '𝐒𝐎𝐍 𝐓𝐔𝐍𝐆 𝐌-𝐓𝐏 | 𝐌𝐀𝐊𝐈𝐍𝐆 𝐌𝐘 𝐖𝐀𝐘 | 𝐎𝐅𝐅𝐈𝐂𝐈𝐀𝐋 𝐕𝐈𝐒𝐔𝐀𝐋𝐈𝐙𝐄𝐑 | 𝐄𝐎𝐍𝐍𝐈𝟖𝟖', 'long_desc': None, 'channel': 'Angelina Eonni88', 'duration': '9:19', 'views': '21,654 views', 'publish_time': '14 hours ago', 'url_suffix': '/watch?v=Gs__5II_v0I&pp=ygUNbWFraW5nIG15IHdheQ%3D%3D'}, {'id': 'LL8c43uml_0', 'thumbnails': ['https://i.ytimg.com/vi/LL8c43uml_0/hq720.jpg?sqp=-oaymwEjCOgCEMoBSFryq4qpAxUIARUAAAAAGAElAADIQj0AgKJDeAE=&rs=AOn4CLDBq5yau4wV_YBIBK1s7YDtiWoziQ', 'https://i.ytimg.com/vi/LL8c43uml_0/hq720.jpg?sqp=-oaymwEXCNAFEJQDSFryq4qpAwkIARUAAIhCGAE=&rs=AOn4CLAL_6PSyIgzi6teUYSPf6PWSAVShA'], 'title': 'Sơn Tùng M-TP| MAKING MY WAY | OFFICIAL VISUALIZER | 🇵🇭REACTION!!!', 'long_desc': None, 'channel': 'Joyce Flang', 'duration': '13:37', 'views': '14,335 views', 'publish_time': '5 hours ago', 'url_suffix': '/watch?v=LL8c43uml_0&pp=ygUNbWFraW5nIG15IHdheQ%3D%3D'}, {'id': 'X1LHbpH8ch8', 'thumbnails': ['https://i.ytimg.com/vi/X1LHbpH8ch8/hq720.jpg?sqp=-oaymwEjCOgCEMoBSFryq4qpAxUIARUAAAAAGAElAADIQj0AgKJDeAE=&rs=AOn4CLBzxoC36EA3zyZGTRhjXVuKwBEEUQ', 'https://i.ytimg.com/vi/X1LHbpH8ch8/hq720.jpg?sqp=-oaymwEXCNAFEJQDSFryq4qpAwkIARUAAIhCGAE=&rs=AOn4CLBz0-7lqDAOzgyYLjcVjwum27LkbQ'], 'title': 'MAKING MY WAY - SON TUNG M-TP (Lyrics & Vietsub)', 'long_desc': None, 'channel': 'Fall In Luv', 'duration': '4:19', 'views': '60,284 views', 'publish_time': '23 hours ago', 'url_suffix': '/watch?v=X1LHbpH8ch8&pp=ygUNbWFraW5nIG15IHdheQ%3D%3D'}, {'id': '5E2mWelrLos', 'thumbnails': ['https://i.ytimg.com/vi/5E2mWelrLos/hq720.jpg?sqp=-oaymwEjCOgCEMoBSFryq4qpAxUIARUAAAAAGAElAADIQj0AgKJDeAE=&rs=AOn4CLBOUoaDP1tJroVEosFJgt_0wRQtpw', 'https://i.ytimg.com/vi/5E2mWelrLos/hq720.jpg?sqp=-oaymwEXCNAFEJQDSFryq4qpAwkIARUAAIhCGAE=&rs=AOn4CLBpoqhzxsbzZHYcWvxMOUiLAqfPFA'], 'title': 'SON TUNG M-TP | MAKING MY WAY | FOREIGNER REACTION | OFFICIAL VISUALIZER - TEACHER PAUL REACTS', 'long_desc': None, 'channel': 'TEACHER PAUL REACTS', 'duration': '5:24', 'views': '132,593 views', 'publish_time': '1 day ago', 'url_suffix': '/watch?v=5E2mWelrLos&pp=ygUNbWFraW5nIG15IHdheQ%3D%3D'}, {'id': 'Cwkej79U3ek', 'thumbnails': ['https://i.ytimg.com/vi/Cwkej79U3ek/hq720.jpg?sqp=-oaymwEjCOgCEMoBSFryq4qpAxUIARUAAAAAGAElAADIQj0AgKJDeAE=&rs=AOn4CLC6Qj4BOVJyJXKxRr3ZGi6FpywcSA', 'https://i.ytimg.com/vi/Cwkej79U3ek/hq720.jpg?sqp=-oaymwEXCNAFEJQDSFryq4qpAwkIARUAAIhCGAE=&rs=AOn4CLAu6yZEGyE2OkkffB3SalH_MqRXRQ'], 'title': 'Vanessa Carlton - A Thousand Miles', 'long_desc': None, 'channel': 'Vanessa Carlton', 'duration': '4:27', 'views': '354,487,209 views', 'publish_time': '13 years ago', 'url_suffix': '/watch?v=Cwkej79U3ek&pp=ygUNbWFraW5nIG15IHdheQ%3D%3D'}, {'id': 'rfddFJAE8Vc', 'thumbnails': ['https://i.ytimg.com/vi/rfddFJAE8Vc/hq720.jpg?sqp=-oaymwEjCOgCEMoBSFryq4qpAxUIARUAAAAAGAElAADIQj0AgKJDeAE=&rs=AOn4CLCtzX5eQcT-Cz8zeF6t7fROwzDLWw', 'https://i.ytimg.com/vi/rfddFJAE8Vc/hq720.jpg?sqp=-oaymwEXCNAFEJQDSFryq4qpAwkIARUAAIhCGAE=&rs=AOn4CLCCJyljR3NqWWyK61fLh0vkvEljRA'], 'title': 'SON TUNG M-TP | MAKING MY WAY | OFFICIAL VISUALIZER | REACTION🇻🇳', 'long_desc': None, 'channel': 'Tim & Vena Adventures', 'duration': '6:17', 'views': '7,848 views', 'publish_time': '9 hours ago', 'url_suffix': '/watch?v=rfddFJAE8Vc&pp=ygUNbWFraW5nIG15IHdheQ%3D%3D'}, {'id': 'VGXm6muC1O4', 'thumbnails': ['https://i.ytimg.com/vi/VGXm6muC1O4/hq720.jpg?sqp=-oaymwEjCOgCEMoBSFryq4qpAxUIARUAAAAAGAElAADIQj0AgKJDeAE=&rs=AOn4CLCKJOYQsQfP__HV3j3jVYtC8Ms_1g', 'https://i.ytimg.com/vi/VGXm6muC1O4/hq720.jpg?sqp=-oaymwEXCNAFEJQDSFryq4qpAwkIARUAAIhCGAE=&rs=AOn4CLCOd4gKlcO7PMaWKbN-kfhXmUrXQw'], 'title': 'Flamingo Sings Making My Way Downtown', 'long_desc': None, 'channel': 'Glitch', 'duration': '1:17', 'views': '3,682,699 views', 'publish_time': '3 years ago', 'url_suffix': '/watch?v=VGXm6muC1O4&pp=ygUNbWFraW5nIG15IHdheQ%3D%3D'}, {'id': 'AlZI7rf2-jo', 'thumbnails': ['https://i.ytimg.com/vi/AlZI7rf2-jo/hq720.jpg?sqp=-oaymwE9COgCEMoBSFryq4qpAy8IARUAAAAAGAElAADIQj0AgKJDeAHwAQH4Af4JgALQBYoCDAgAEAEYZSBWKEMwDw==&rs=AOn4CLCUPBvavYe9rj4KOnPky4rM4IoUOQ', 'https://i.ytimg.com/vi/AlZI7rf2-jo/hq720.jpg?sqp=-oaymwExCNAFEJQDSFryq4qpAyMIARUAAIhCGAHwAQH4Af4JgALQBYoCDAgAEAEYZSBWKEMwDw==&rs=AOn4CLBOBMgKEa6jfnvkmK7FIeoPWzqhMQ'], 'title': '\"Makin\\' My Way\" - The Legend of Vox Machina S2E7', 'long_desc': None, 'channel': 'MisterRandom2', 'duration': '1:01', 'views': '395,537 views', 'publish_time': '3 months ago', 'url_suffix': '/watch?v=AlZI7rf2-jo&pp=ygUNbWFraW5nIG15IHdheQ%3D%3D'}]\n",
            "SON TUNG M-TP | MAKING MY WAY | OFFICIAL VISUALIZER\n",
            "/watch?v=niPkap1ozUA&pp=ygUNbWFraW5nIG15IHdheQ%3D%3D\n",
            "http://www.youtube.com/watch?v=niPkap1ozUA&pp=ygUNbWFraW5nIG15IHdheQ%3D%3D\n",
            "Making my way của Sơn Tùng M-TP đứng đầu thế giới dù bị tố 'đạo nhạc'\n",
            "/watch?v=jFFfnkuNrCs&pp=ygUNbWFraW5nIG15IHdheQ%3D%3D\n",
            "http://www.youtube.com/watch?v=jFFfnkuNrCs&pp=ygUNbWFraW5nIG15IHdheQ%3D%3D\n",
            "𝐒𝐎𝐍 𝐓𝐔𝐍𝐆 𝐌-𝐓𝐏 | 𝐌𝐀𝐊𝐈𝐍𝐆 𝐌𝐘 𝐖𝐀𝐘 | 𝐎𝐅𝐅𝐈𝐂𝐈𝐀𝐋 𝐕𝐈𝐒𝐔𝐀𝐋𝐈𝐙𝐄𝐑 | 𝐄𝐎𝐍𝐍𝐈𝟖𝟖\n",
            "/watch?v=Gs__5II_v0I&pp=ygUNbWFraW5nIG15IHdheQ%3D%3D\n",
            "http://www.youtube.com/watch?v=Gs__5II_v0I&pp=ygUNbWFraW5nIG15IHdheQ%3D%3D\n",
            "Sơn Tùng M-TP| MAKING MY WAY | OFFICIAL VISUALIZER | 🇵🇭REACTION!!!\n",
            "/watch?v=LL8c43uml_0&pp=ygUNbWFraW5nIG15IHdheQ%3D%3D\n",
            "http://www.youtube.com/watch?v=LL8c43uml_0&pp=ygUNbWFraW5nIG15IHdheQ%3D%3D\n",
            "MAKING MY WAY - SON TUNG M-TP (Lyrics & Vietsub)\n",
            "/watch?v=X1LHbpH8ch8&pp=ygUNbWFraW5nIG15IHdheQ%3D%3D\n",
            "http://www.youtube.com/watch?v=X1LHbpH8ch8&pp=ygUNbWFraW5nIG15IHdheQ%3D%3D\n",
            "SON TUNG M-TP | MAKING MY WAY | FOREIGNER REACTION | OFFICIAL VISUALIZER - TEACHER PAUL REACTS\n",
            "/watch?v=5E2mWelrLos&pp=ygUNbWFraW5nIG15IHdheQ%3D%3D\n",
            "http://www.youtube.com/watch?v=5E2mWelrLos&pp=ygUNbWFraW5nIG15IHdheQ%3D%3D\n",
            "Vanessa Carlton - A Thousand Miles\n",
            "/watch?v=Cwkej79U3ek&pp=ygUNbWFraW5nIG15IHdheQ%3D%3D\n",
            "http://www.youtube.com/watch?v=Cwkej79U3ek&pp=ygUNbWFraW5nIG15IHdheQ%3D%3D\n",
            "SON TUNG M-TP | MAKING MY WAY | OFFICIAL VISUALIZER | REACTION🇻🇳\n",
            "/watch?v=rfddFJAE8Vc&pp=ygUNbWFraW5nIG15IHdheQ%3D%3D\n",
            "http://www.youtube.com/watch?v=rfddFJAE8Vc&pp=ygUNbWFraW5nIG15IHdheQ%3D%3D\n",
            "Flamingo Sings Making My Way Downtown\n",
            "/watch?v=VGXm6muC1O4&pp=ygUNbWFraW5nIG15IHdheQ%3D%3D\n",
            "http://www.youtube.com/watch?v=VGXm6muC1O4&pp=ygUNbWFraW5nIG15IHdheQ%3D%3D\n",
            "\"Makin' My Way\" - The Legend of Vox Machina S2E7\n",
            "/watch?v=AlZI7rf2-jo&pp=ygUNbWFraW5nIG15IHdheQ%3D%3D\n",
            "http://www.youtube.com/watch?v=AlZI7rf2-jo&pp=ygUNbWFraW5nIG15IHdheQ%3D%3D\n"
          ]
        }
      ]
    },
    {
      "cell_type": "code",
      "source": [
        "################# speech to Text ###############\n"
      ],
      "metadata": {
        "id": "ZlCHMJbwEmoI"
      },
      "execution_count": null,
      "outputs": []
    },
    {
      "cell_type": "code",
      "source": [
        "pip install SpeechRecognition pydub"
      ],
      "metadata": {
        "colab": {
          "base_uri": "https://localhost:8080/"
        },
        "id": "q3QUhGg-E58q",
        "outputId": "df540730-8c93-4892-af21-a1ea4f90b2d8"
      },
      "execution_count": null,
      "outputs": [
        {
          "output_type": "stream",
          "name": "stdout",
          "text": [
            "Looking in indexes: https://pypi.org/simple, https://us-python.pkg.dev/colab-wheels/public/simple/\n",
            "Collecting SpeechRecognition\n",
            "  Downloading SpeechRecognition-3.10.0-py2.py3-none-any.whl (32.8 MB)\n",
            "\u001b[2K     \u001b[90m━━━━━━━━━━━━━━━━━━━━━━━━━━━━━━━━━━━━━━━━\u001b[0m \u001b[32m32.8/32.8 MB\u001b[0m \u001b[31m44.4 MB/s\u001b[0m eta \u001b[36m0:00:00\u001b[0m\n",
            "\u001b[?25hCollecting pydub\n",
            "  Downloading pydub-0.25.1-py2.py3-none-any.whl (32 kB)\n",
            "Requirement already satisfied: requests>=2.26.0 in /usr/local/lib/python3.10/dist-packages (from SpeechRecognition) (2.27.1)\n",
            "Requirement already satisfied: idna<4,>=2.5 in /usr/local/lib/python3.10/dist-packages (from requests>=2.26.0->SpeechRecognition) (3.4)\n",
            "Requirement already satisfied: urllib3<1.27,>=1.21.1 in /usr/local/lib/python3.10/dist-packages (from requests>=2.26.0->SpeechRecognition) (1.26.15)\n",
            "Requirement already satisfied: charset-normalizer~=2.0.0 in /usr/local/lib/python3.10/dist-packages (from requests>=2.26.0->SpeechRecognition) (2.0.12)\n",
            "Requirement already satisfied: certifi>=2017.4.17 in /usr/local/lib/python3.10/dist-packages (from requests>=2.26.0->SpeechRecognition) (2022.12.7)\n",
            "Installing collected packages: pydub, SpeechRecognition\n",
            "Successfully installed SpeechRecognition-3.10.0 pydub-0.25.1\n"
          ]
        }
      ]
    },
    {
      "cell_type": "code",
      "source": [
        "### dung english #####\n",
        "file = '/content/speech_english.wav'\n",
        "import speech_recognition as sr\n",
        "r = sr.Recognizer()\n",
        "with sr.AudioFile(file) as source:\n",
        "  audio_data = r.record(source)\n",
        "  text = r.recognize_google(audio_data)\n",
        "  print(text)"
      ],
      "metadata": {
        "colab": {
          "base_uri": "https://localhost:8080/"
        },
        "id": "nsxosZjKFKOl",
        "outputId": "8864761a-0236-4a7d-de40-c94714ced3ec"
      },
      "execution_count": null,
      "outputs": [
        {
          "output_type": "stream",
          "name": "stdout",
          "text": [
            "we can always improve technology with humanitarian care we can enhance the security of network by introducing Quantum cryptography we can put restrictions on AI to prevent will galavant teleportation or maybe it's too risky to transport human\n"
          ]
        }
      ]
    },
    {
      "cell_type": "code",
      "source": [
        "file = '/content/china.wav'\n",
        "import speech_recognition as sr\n",
        "r = sr.Recognizer()\n",
        "with sr.AudioFile(file) as source:\n",
        "  audio_data = r.record(source)\n",
        "  text = r.recognize_google(audio_data, language='zh_tiw')\n",
        "  print(text)"
      ],
      "metadata": {
        "colab": {
          "base_uri": "https://localhost:8080/"
        },
        "id": "z9MiyCG9IiqG",
        "outputId": "596ce959-fa6c-4490-f5ad-2d12805a6ddf"
      },
      "execution_count": null,
      "outputs": [
        {
          "output_type": "stream",
          "name": "stdout",
          "text": [
            "你好请问有什么可以帮您你好我要咖啡要什么咖啡那美式咖啡小杯大杯超大杯你要什么背呢我要中杯中杯没有中杯大杯好的嘉宾将奶吗不加奶嘉宾嘉宾好的嘉宾不加奶对对请问你呢好的谢谢\n"
          ]
        }
      ]
    },
    {
      "cell_type": "code",
      "source": [
        "# dic=('afrikaans', 'af', 'albanian', 'sq', 'amharic', 'am',\n",
        "#        'arabic', 'ar', 'armenian', 'hy', 'azerbaijani', 'az',\n",
        "#       'basque', 'eu', 'belarusian', 'be', 'bengali', 'bn', 'bosnian',\n",
        "#           'bs', 'bulgarian', 'bg', 'catalan', 'ca',  'cebuano', 'ceb',\n",
        "#      'chichewa', 'ny', 'chinese(simplified)',  'zh-cn', 'chinese (traditional)',\n",
        "#      'zh-tw',  'corsican', 'co', 'croatian', 'hr', 'czech', 'cs', 'danish', \n",
        "#          'da', 'dutch', 'nl', 'english', 'en', 'esperanto',  'eo', 'estonian',\n",
        "#      'et', 'filipino', 'tl', 'finnish', 'fi',  'french', 'fr', 'frisian', 'fy',\n",
        "#      'galician', 'gl’,   'georgian', 'ka', 'german', 'de', 'greek', 'el', 'gujarati',  \n",
        "#          'gu', 'haitian creole', 'ht', 'hausa', 'ha',   'hawaiian', 'haw',\n",
        "#      'hebrew', 'he', 'hindi', 'hi', 'hmong',  'hmn', 'hungarian', 'hu',\n",
        "#      'icelandic', 'is', 'igbo’, 'ig', 'indonesian', 'id', 'irish', 'ga',\n",
        "#       'italian', 'it', 'japanese', 'ja', 'javanese', 'jw', 'kannada', 'kn', \n",
        "#       'kazakh', 'kk', 'khmer', 'km', 'korean', 'ko', 'kurdish (kurmanji)’,\n",
        "#       'ku', 'kyrgyz', 'ky', 'lao', 'lo', 'latin', 'la', 'latvian', 'lv',\n",
        "#       'lithuanian', 'lt', 'luxembourgish’,  'lb', 'macedonian', 'mk','malagasy’, \n",
        "#       'mg', 'malay', 'ms', 'malayalam', 'ml', 'maltese', 'mt', 'maori’,  'mi',\n",
        "#       'marathi', 'mr', 'mongolian', 'mn’, 'myanmar (burmese)', 'my', 'nepali',\n",
        "#        'ne', 'norwegian', 'no’, 'odia', 'or', 'pashto', 'ps', 'persian’, 'fa',\n",
        "#       'polish', 'pl', 'portuguese', 'pt', 'punjabi', 'pa’, 'romanian', 'ro',\n",
        "#        'russian', 'ru', 'samoan’, 'sm', 'scots gaelic', 'gd', 'serbian', 'sr',\n",
        "#         'sesotho', 'st', 'shona', 'sn', 'sindhi', 'sd', 'sinhala’, 'si', 'slovak',\n",
        "#          'sk', 'slovenian', 'sl', 'somali', 'so', 'spanish', 'es', 'sundanese', 'su', \n",
        "#      'swahili', 'sw', 'swedish', 'sv', 'tajik', 'tg', 'tamil’, 'ta', 'telugu', 'te',\n",
        "#       'thai', 'th', 'turkish', 'tr’, 'ukrainian', 'uk', 'urdu', 'ur', 'uyghur', \n",
        "#       'ug', 'uzbek', 'uz', 'vietnamese', 'vi', 'welsh', 'cy', 'xhosa', 'xh’,\n",
        "#        'yiddish', 'yi', 'yoruba', 'yo', 'zulu', 'zu')"
      ],
      "metadata": {
        "id": "HZjd9Zx7aA-R"
      },
      "execution_count": null,
      "outputs": []
    },
    {
      "cell_type": "code",
      "source": [
        "## cat du lieu ###\n",
        "import speech_recognition as sr\n",
        "r = sr.Recognizer()\n",
        "with sr.AudioFile('/content/speech_english.wav') as source:\n",
        "  au1= r.record(source, duration =6)\n",
        "  au2= r.record(source, offset =0, duration=6)\n",
        "  au3=r.record(source, offset =0, duration=4)\n",
        "  au4=r.record(source, offset =0, duration=11)\n",
        "  au5= r.record(source, offset =0, duration=20)\n",
        "list_record =[au1,au2,au3,au4,au5]\n",
        "for i in range (0,5):\n",
        "  print(r.recognize_google(list_record[i], language='en_EN'))\n",
        "  print(i)"
      ],
      "metadata": {
        "colab": {
          "base_uri": "https://localhost:8080/"
        },
        "id": "nthNwCbZMbRx",
        "outputId": "02b92753-bc19-4480-99a1-453b80600c88"
      },
      "execution_count": null,
      "outputs": [
        {
          "output_type": "stream",
          "name": "stdout",
          "text": [
            "we can always improve technology with humanitarian care\n",
            "0\n",
            "we can enhance the security of network by introducing Quantum cryptography\n",
            "1\n",
            "put restrictions on AI to prevent roux gallivan's\n",
            "2\n",
            "teleportation or maybe it is too risky to transport human who can still relieve a considerable burden in traffic by taking care of the delivery system\n",
            "3\n",
            "taking a glimpse into the future what exactly do I study for instrument of success\n",
            "4\n"
          ]
        }
      ]
    },
    {
      "cell_type": "code",
      "source": [
        "#### text to speech #######"
      ],
      "metadata": {
        "id": "gVLt5IU1P2kl"
      },
      "execution_count": null,
      "outputs": []
    },
    {
      "cell_type": "code",
      "source": [
        "pip install gTTS"
      ],
      "metadata": {
        "colab": {
          "base_uri": "https://localhost:8080/"
        },
        "id": "L6FOmnuqP8Uk",
        "outputId": "cd2d40cf-b19b-4a5d-c719-d1733bee645f"
      },
      "execution_count": null,
      "outputs": [
        {
          "output_type": "stream",
          "name": "stdout",
          "text": [
            "Looking in indexes: https://pypi.org/simple, https://us-python.pkg.dev/colab-wheels/public/simple/\n",
            "Collecting gTTS\n",
            "  Downloading gTTS-2.3.2-py3-none-any.whl (28 kB)\n",
            "Requirement already satisfied: click<8.2,>=7.1 in /usr/local/lib/python3.10/dist-packages (from gTTS) (8.1.3)\n",
            "Requirement already satisfied: requests<3,>=2.27 in /usr/local/lib/python3.10/dist-packages (from gTTS) (2.27.1)\n",
            "Requirement already satisfied: idna<4,>=2.5 in /usr/local/lib/python3.10/dist-packages (from requests<3,>=2.27->gTTS) (3.4)\n",
            "Requirement already satisfied: certifi>=2017.4.17 in /usr/local/lib/python3.10/dist-packages (from requests<3,>=2.27->gTTS) (2022.12.7)\n",
            "Requirement already satisfied: urllib3<1.27,>=1.21.1 in /usr/local/lib/python3.10/dist-packages (from requests<3,>=2.27->gTTS) (1.26.15)\n",
            "Requirement already satisfied: charset-normalizer~=2.0.0 in /usr/local/lib/python3.10/dist-packages (from requests<3,>=2.27->gTTS) (2.0.12)\n",
            "Installing collected packages: gTTS\n",
            "Successfully installed gTTS-2.3.2\n"
          ]
        }
      ]
    },
    {
      "cell_type": "code",
      "source": [
        "from gtts import  gTTS\n",
        "import os\n",
        "A ='''Not a single one of us here today has done it alone. \n",
        "We are each a patchwork quilt of those who have loved us, \n",
        "those who have believed in our futures,\n",
        " those who showed us empathy\n",
        "  and kindness\n",
        "   or told us the truth even when it wasn’t easy to hear.\n",
        "    Those who told us we could do it when there was absolutely no proof of that.\n",
        "     Someone read stories to you and taught you to dream and offered up some moral code of right and wrong for you to try and live by. \n",
        "     Someone tried their best to explain every concept in this insanely complex world to the child that was you, \n",
        "     as you asked a bazillion questions like, ‘how does the moon work’ and ‘why can we eat salad but not grass.’ \n",
        "     And maybe they didn’t do it perfectly.\n",
        "      No one ever can. Maybe they aren’t with us anymore,\n",
        "       and in that case I hope you’ll remember them today. \n",
        "       If they are here in this stadium, \n",
        "       I hope you’ll find your own way to express your gratitude for all the steps and missteps that have led us to this common destination.'''\n",
        "# them : playsound('---------------.mp3') dung cho cac moi truong lap trinh tren may tinh\n",
        "speak = gTTS( text =A, lang ='en', slow=False)\n",
        "speak.save('stt.mp3')\n",
        "# os.remove() : xoa"
      ],
      "metadata": {
        "id": "LbElqHP9QBGc"
      },
      "execution_count": null,
      "outputs": []
    },
    {
      "cell_type": "code",
      "source": [
        "pip install googletrans==3.1.0a0"
      ],
      "metadata": {
        "colab": {
          "base_uri": "https://localhost:8080/",
          "height": 1000
        },
        "id": "4zMqEWqdS6Yw",
        "outputId": "a9ddbccc-420f-4822-82e1-954b50068802"
      },
      "execution_count": null,
      "outputs": [
        {
          "output_type": "stream",
          "name": "stdout",
          "text": [
            "Looking in indexes: https://pypi.org/simple, https://us-python.pkg.dev/colab-wheels/public/simple/\n",
            "Collecting googletrans==3.1.0a0\n",
            "  Downloading googletrans-3.1.0a0.tar.gz (19 kB)\n",
            "  Preparing metadata (setup.py) ... \u001b[?25l\u001b[?25hdone\n",
            "Collecting httpx==0.13.3\n",
            "  Downloading httpx-0.13.3-py3-none-any.whl (55 kB)\n",
            "\u001b[2K     \u001b[90m━━━━━━━━━━━━━━━━━━━━━━━━━━━━━━━━━━━━━━━━\u001b[0m \u001b[32m55.1/55.1 kB\u001b[0m \u001b[31m5.0 MB/s\u001b[0m eta \u001b[36m0:00:00\u001b[0m\n",
            "\u001b[?25hRequirement already satisfied: certifi in /usr/local/lib/python3.9/dist-packages (from httpx==0.13.3->googletrans==3.1.0a0) (2022.12.7)\n",
            "Collecting hstspreload\n",
            "  Downloading hstspreload-2023.1.1-py3-none-any.whl (1.5 MB)\n",
            "\u001b[2K     \u001b[90m━━━━━━━━━━━━━━━━━━━━━━━━━━━━━━━━━━━━━━━━\u001b[0m \u001b[32m1.5/1.5 MB\u001b[0m \u001b[31m30.2 MB/s\u001b[0m eta \u001b[36m0:00:00\u001b[0m\n",
            "\u001b[?25hRequirement already satisfied: sniffio in /usr/local/lib/python3.9/dist-packages (from httpx==0.13.3->googletrans==3.1.0a0) (1.3.0)\n",
            "Collecting httpcore==0.9.*\n",
            "  Downloading httpcore-0.9.1-py3-none-any.whl (42 kB)\n",
            "\u001b[2K     \u001b[90m━━━━━━━━━━━━━━━━━━━━━━━━━━━━━━━━━━━━━━━━\u001b[0m \u001b[32m42.6/42.6 kB\u001b[0m \u001b[31m5.6 MB/s\u001b[0m eta \u001b[36m0:00:00\u001b[0m\n",
            "\u001b[?25hCollecting chardet==3.*\n",
            "  Downloading chardet-3.0.4-py2.py3-none-any.whl (133 kB)\n",
            "\u001b[2K     \u001b[90m━━━━━━━━━━━━━━━━━━━━━━━━━━━━━━━━━━━━━━━\u001b[0m \u001b[32m133.4/133.4 kB\u001b[0m \u001b[31m9.3 MB/s\u001b[0m eta \u001b[36m0:00:00\u001b[0m\n",
            "\u001b[?25hCollecting idna==2.*\n",
            "  Downloading idna-2.10-py2.py3-none-any.whl (58 kB)\n",
            "\u001b[2K     \u001b[90m━━━━━━━━━━━━━━━━━━━━━━━━━━━━━━━━━━━━━━━━\u001b[0m \u001b[32m58.8/58.8 kB\u001b[0m \u001b[31m7.9 MB/s\u001b[0m eta \u001b[36m0:00:00\u001b[0m\n",
            "\u001b[?25hCollecting rfc3986<2,>=1.3\n",
            "  Downloading rfc3986-1.5.0-py2.py3-none-any.whl (31 kB)\n",
            "Collecting h11<0.10,>=0.8\n",
            "  Downloading h11-0.9.0-py2.py3-none-any.whl (53 kB)\n",
            "\u001b[2K     \u001b[90m━━━━━━━━━━━━━━━━━━━━━━━━━━━━━━━━━━━━━━━━\u001b[0m \u001b[32m53.6/53.6 kB\u001b[0m \u001b[31m5.5 MB/s\u001b[0m eta \u001b[36m0:00:00\u001b[0m\n",
            "\u001b[?25hCollecting h2==3.*\n",
            "  Downloading h2-3.2.0-py2.py3-none-any.whl (65 kB)\n",
            "\u001b[2K     \u001b[90m━━━━━━━━━━━━━━━━━━━━━━━━━━━━━━━━━━━━━━━━\u001b[0m \u001b[32m65.0/65.0 kB\u001b[0m \u001b[31m8.2 MB/s\u001b[0m eta \u001b[36m0:00:00\u001b[0m\n",
            "\u001b[?25hCollecting hpack<4,>=3.0\n",
            "  Downloading hpack-3.0.0-py2.py3-none-any.whl (38 kB)\n",
            "Collecting hyperframe<6,>=5.2.0\n",
            "  Downloading hyperframe-5.2.0-py2.py3-none-any.whl (12 kB)\n",
            "Building wheels for collected packages: googletrans\n",
            "  Building wheel for googletrans (setup.py) ... \u001b[?25l\u001b[?25hdone\n",
            "  Created wheel for googletrans: filename=googletrans-3.1.0a0-py3-none-any.whl size=16368 sha256=b2d3661dec454f618c3f696e2518c2e9f7aac5de2f01ac0e9bd0d9ce564501a9\n",
            "  Stored in directory: /root/.cache/pip/wheels/ae/e1/6c/5137bc3f35aa130deea71575e165cc4f4f0680a88f3d90a636\n",
            "Successfully built googletrans\n",
            "Installing collected packages: rfc3986, hyperframe, hpack, h11, chardet, idna, hstspreload, h2, httpcore, httpx, googletrans\n",
            "  Attempting uninstall: chardet\n",
            "    Found existing installation: chardet 4.0.0\n",
            "    Uninstalling chardet-4.0.0:\n",
            "      Successfully uninstalled chardet-4.0.0\n",
            "  Attempting uninstall: idna\n",
            "    Found existing installation: idna 3.4\n",
            "    Uninstalling idna-3.4:\n",
            "      Successfully uninstalled idna-3.4\n",
            "Successfully installed chardet-3.0.4 googletrans-3.1.0a0 h11-0.9.0 h2-3.2.0 hpack-3.0.0 hstspreload-2023.1.1 httpcore-0.9.1 httpx-0.13.3 hyperframe-5.2.0 idna-2.10 rfc3986-1.5.0\n"
          ]
        },
        {
          "output_type": "display_data",
          "data": {
            "application/vnd.colab-display-data+json": {
              "pip_warning": {
                "packages": [
                  "chardet",
                  "idna"
                ]
              }
            }
          },
          "metadata": {}
        }
      ]
    },
    {
      "cell_type": "code",
      "source": [
        "from googletrans import Translator\n",
        "translator = Translator()\n",
        "translation = translator.translate('''Not a single one of us here today has done it alone. \n",
        "We are each a patchwork quilt of those who have loved us, \n",
        "those who have believed in our futures,\n",
        "those who showed us empathy\n",
        "and kindness\n",
        "or told us the truth even when it wasn’t easy to hear.\n",
        "Those who told us we could do it when there was absolutely no proof of that.\n",
        "Someone read stories to you and taught you to dream and offered up some moral code of right and wrong for you to try and live by. \n",
        "Someone tried their best to explain every concept in this insanely complex world to the child that was you, \n",
        "as you asked a bazillion questions like, ‘how does the moon work’ and ‘why can we eat salad but not grass.’ \n",
        "And maybe they didn’t do it perfectly.\n",
        "No one ever can. Maybe they aren’t with us anymore,\n",
        "and in that case I hope you’ll remember them today. \n",
        "If they are here in this stadium, \n",
        "I hope you’ll find your own way to express your gratitude for all the steps and missteps that have led us to this common destination.''', dest='vi')\n",
        "print(translation.text)"
      ],
      "metadata": {
        "colab": {
          "base_uri": "https://localhost:8080/"
        },
        "id": "syOHHQ4TUF4O",
        "outputId": "c35f2cc3-f3d1-4a18-9910-c88138d17785"
      },
      "execution_count": null,
      "outputs": [
        {
          "output_type": "stream",
          "name": "stdout",
          "text": [
            "Không một ai trong chúng ta ở đây hôm nay đã làm điều đó một mình.\n",
            "Mỗi chúng ta là một tấm chăn chắp vá của những người đã yêu thương chúng ta,\n",
            "những người đã tin tưởng vào tương lai của chúng ta,\n",
            "những người đã cho chúng tôi thấy sự đồng cảm\n",
            "và lòng tốt\n",
            "hoặc nói với chúng tôi sự thật ngay cả khi điều đó không dễ nghe.\n",
            "Những người nói với chúng tôi rằng chúng tôi có thể làm điều đó khi hoàn toàn không có bằng chứng về điều đó.\n",
            "Ai đó đọc truyện cho bạn nghe, dạy bạn mơ và đưa ra một số quy tắc đạo đức về đúng sai để bạn cố gắng sống theo.\n",
            "Ai đó đã cố gắng hết sức để giải thích mọi khái niệm trong thế giới cực kỳ phức tạp này cho đứa trẻ là bạn,\n",
            "khi bạn hỏi hàng tỷ câu hỏi như, 'mặt trăng hoạt động như thế nào' và 'tại sao chúng ta có thể ăn salad mà không ăn cỏ.'\n",
            "Và có lẽ họ đã không làm điều đó một cách hoàn hảo.\n",
            "Không ai có thể. Có lẽ họ không còn ở bên chúng ta nữa,\n",
            "và trong trường hợp đó, tôi hy vọng bạn sẽ nhớ chúng ngày hôm nay.\n",
            "Nếu họ ở đây trong sân vận động này,\n",
            "Tôi hy vọng bạn sẽ tìm ra cách riêng của mình để bày tỏ lòng biết ơn đối với tất cả các bước và sai lầm đã đưa chúng ta đến đích chung này.\n"
          ]
        }
      ]
    },
    {
      "cell_type": "code",
      "source": [
        "## wav -> text -> translate -> speech -> mp3\n"
      ],
      "metadata": {
        "id": "Nh4PAVyXVjqt"
      },
      "execution_count": null,
      "outputs": []
    },
    {
      "cell_type": "code",
      "source": [
        "import speech_recognition as sr\n",
        "from googletrans import Translator\n",
        "translator = Translator()\n",
        "\n",
        "r = sr.Recognizer()\n",
        "with sr.AudioFile('/content/speech_english.wav') as source:\n",
        "  audio_1 = r.record(source, duration =22)\n",
        "  audio_2 = r.record(source, offset =0, duration=47)\n",
        "print(r.recognize_google(audio_1, language='en_EN'))\n",
        "print(r.recognize_google(audio_2,language='en_EN' ))\n",
        "# translation = translator.translate(text,dest='vi')"
      ],
      "metadata": {
        "colab": {
          "base_uri": "https://localhost:8080/"
        },
        "id": "vY26bEZRVzcm",
        "outputId": "897703a5-be17-4d89-8092-eb97d22128f8"
      },
      "execution_count": null,
      "outputs": [
        {
          "output_type": "stream",
          "name": "stdout",
          "text": [
            "we can always improve technology with humanitarian care we can enhance the security of network by introducing Quantum cryptography we can put restrictions on AI to prevent will galavant teleportation or maybe it's too risky to transport human\n",
            "considerable burden on Page in traffic by taking care of the delivery system so taking a glimpse into the future what exactly do I see\n"
          ]
        }
      ]
    }
  ]
}