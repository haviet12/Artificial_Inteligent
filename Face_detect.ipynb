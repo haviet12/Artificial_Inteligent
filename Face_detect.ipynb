{
  "nbformat": 4,
  "nbformat_minor": 0,
  "metadata": {
    "colab": {
      "provenance": [],
      "mount_file_id": "1wVAqMABtWjx-nD-Q6W5xSURkZOmziLvq",
      "authorship_tag": "ABX9TyMnGhinhVfcobLQzRgU8sTL",
      "include_colab_link": true
    },
    "kernelspec": {
      "name": "python3",
      "display_name": "Python 3"
    },
    "language_info": {
      "name": "python"
    },
    "accelerator": "GPU",
    "gpuClass": "standard"
  },
  "cells": [
    {
      "cell_type": "markdown",
      "metadata": {
        "id": "view-in-github",
        "colab_type": "text"
      },
      "source": [
        "<a href=\"https://colab.research.google.com/github/haviet12/Artificial_Inteligent/blob/main/Face_detect.ipynb\" target=\"_parent\"><img src=\"https://colab.research.google.com/assets/colab-badge.svg\" alt=\"Open In Colab\"/></a>"
      ]
    },
    {
      "cell_type": "code",
      "execution_count": 40,
      "metadata": {
        "id": "yB8foki203dE"
      },
      "outputs": [],
      "source": [
        "from os import listdir\n",
        "from numpy import asarray,save\n",
        "from keras.utils import load_img, img_to_array"
      ]
    },
    {
      "cell_type": "code",
      "source": [
        "## tạo dữ liệu để train\n",
        "folder = '/content/drive/MyDrive/MyPicture/face_data/'\n",
        "photos_train, labels_train = list(), list()\n",
        "for file in listdir(folder) :\n",
        "  output = 0.0\n",
        "  if file.startswith('Ha'):\n",
        "    output=1.0\n",
        "  if file.startswith('hau'):\n",
        "    output=2.0\n",
        "  if file.startswith('minh'):\n",
        "    output=3.0\n",
        "  photo = load_img(folder + file, target_size = (30,40))\n",
        "  photo = img_to_array(photo)\n",
        "  photos_train.append(photo)\n",
        "  labels_train.append(output)\n",
        "photos_train = asarray(photos_train)\n",
        "labels_train = asarray(labels_train)\n",
        "print(photos_train.shape, labels_train.shape)\n",
        "save('/content/drive/MyDrive/MyPicture/face_data/Ha_Hau_Minh_photos.npy',photos_train)\n",
        "save('/content/drive/MyDrive/MyPicture/face_data/Ha_Hau_Minh_labels.npy',labels_train)"
      ],
      "metadata": {
        "colab": {
          "base_uri": "https://localhost:8080/"
        },
        "id": "OCQ6U7UZ4Ut0",
        "outputId": "184056cf-eb07-49df-e9fa-54ef0a2bc947"
      },
      "execution_count": 41,
      "outputs": [
        {
          "output_type": "stream",
          "name": "stdout",
          "text": [
            "(180, 30, 40, 3) (180,)\n"
          ]
        }
      ]
    },
    {
      "cell_type": "code",
      "source": [
        "folder_test = '/content/drive/MyDrive/MyPicture/face_data_test/'\n",
        "photos_test, labels_test = list(), list()\n",
        "for file in listdir(folder_test) :\n",
        "  output = 0.0\n",
        "  if file.startswith('Ha'):\n",
        "    output=1.0\n",
        "  if file.startswith('hau'):\n",
        "    output=2.0\n",
        "  if file.startswith('minh'):\n",
        "    output=3.0\n",
        "  photo_t = load_img(folder_test + file, target_size = (30,40))\n",
        "  photo_t = img_to_array(photo_t)\n",
        "  photos_test.append(photo_t)\n",
        "  labels_test.append(output)\n",
        "photos_test = asarray(photos_test)\n",
        "labels_test = asarray(labels_test)\n",
        "print(photos_test.shape, labels_test.shape)\n",
        "save('/content/drive/MyDrive/MyPicture/face_data_test/Ha_Hau_Minh_photos.npy',photos_test)\n",
        "save('/content/drive/MyDrive/MyPicture/face_data_test/Ha_Hau_Minh_labels.npy',labels_test)"
      ],
      "metadata": {
        "colab": {
          "base_uri": "https://localhost:8080/"
        },
        "id": "1RcrEHhpCAhe",
        "outputId": "3d0ed8b5-09f9-46d1-b3d1-e96cfef79793"
      },
      "execution_count": 42,
      "outputs": [
        {
          "output_type": "stream",
          "name": "stdout",
          "text": [
            "(30, 30, 40, 3) (30,)\n"
          ]
        }
      ]
    },
    {
      "cell_type": "code",
      "source": [
        "photos_train = photos_train.astype('float')/255.0\n",
        "photos_test = photos_test.astype('float')/255.0\n"
      ],
      "metadata": {
        "id": "AVcL5e9y83AT"
      },
      "execution_count": 43,
      "outputs": []
    },
    {
      "cell_type": "code",
      "source": [
        "from keras.utils import to_categorical\n",
        "\n",
        "labels_train = to_categorical(labels_train)\n",
        "labels_test = to_categorical(labels_test)\n",
        "\n",
        "print(labels_train.shape)\n",
        "print(labels_test.shape)"
      ],
      "metadata": {
        "colab": {
          "base_uri": "https://localhost:8080/"
        },
        "id": "RkrUYoWW8tmQ",
        "outputId": "ca8f7cb2-a04c-4bc0-e0e4-6601189308a6"
      },
      "execution_count": 44,
      "outputs": [
        {
          "output_type": "stream",
          "name": "stdout",
          "text": [
            "(180, 4)\n",
            "(30, 4)\n"
          ]
        }
      ]
    },
    {
      "cell_type": "code",
      "source": [
        "from keras import models\n",
        "from keras.models import Sequential, Model\n",
        "from keras.layers import Dense, Dropout, Flatten, Conv2D, Normalization, MaxPooling2D\n",
        "from keras.optimizers import Adam\n",
        "from keras.layers import LeakyReLU\n",
        "\n",
        "\n",
        "############## \n",
        "batch_size=64\n",
        "epochs =20\n",
        "classes =4"
      ],
      "metadata": {
        "id": "yAY5IaQUEACk"
      },
      "execution_count": 51,
      "outputs": []
    },
    {
      "cell_type": "code",
      "source": [
        "\n",
        "model=Sequential()\n",
        "model.add(Conv2D(32, kernel_size=(3,3), activation='linear',input_shape=(30,40,3), padding='same'))\n",
        "model.add(LeakyReLU(alpha=0.1))\n",
        "model.add(MaxPooling2D((2,2), padding='same'))\n",
        "\n",
        "model.add(Conv2D(64,(3,3),activation='linear', padding='same'))\n",
        "model.add(LeakyReLU(alpha=0.1))\n",
        "model.add(MaxPooling2D((2,2), padding='same'))\n",
        "\n",
        "model.add(Conv2D(128,(3,3),activation='linear', padding='same'))\n",
        "model.add(LeakyReLU(alpha=0.1))\n",
        "model.add(MaxPooling2D((2,2), padding='same'))"
      ],
      "metadata": {
        "id": "5i4UnlN-Ebc_"
      },
      "execution_count": 52,
      "outputs": []
    },
    {
      "cell_type": "code",
      "source": [
        "model.add(Flatten())\n",
        "model.add(Dense(128,activation='linear'))\n",
        "model.add(LeakyReLU(alpha=0.1))\n",
        "model.add(Dense(classes, activation='softmax'))"
      ],
      "metadata": {
        "id": "mg55w10mEn2m"
      },
      "execution_count": 53,
      "outputs": []
    },
    {
      "cell_type": "code",
      "source": [
        "model.compile(loss='categorical_crossentropy', optimizer=Adam(), metrics=['accuracy'])\n",
        "model.summary()"
      ],
      "metadata": {
        "colab": {
          "base_uri": "https://localhost:8080/"
        },
        "id": "3KoC4lIaEqBE",
        "outputId": "3feb8b66-3002-499e-f0ef-9b0a3fa845a2"
      },
      "execution_count": 54,
      "outputs": [
        {
          "output_type": "stream",
          "name": "stdout",
          "text": [
            "Model: \"sequential_3\"\n",
            "_________________________________________________________________\n",
            " Layer (type)                Output Shape              Param #   \n",
            "=================================================================\n",
            " conv2d_9 (Conv2D)           (None, 30, 40, 32)        896       \n",
            "                                                                 \n",
            " leaky_re_lu_11 (LeakyReLU)  (None, 30, 40, 32)        0         \n",
            "                                                                 \n",
            " max_pooling2d_9 (MaxPooling  (None, 15, 20, 32)       0         \n",
            " 2D)                                                             \n",
            "                                                                 \n",
            " conv2d_10 (Conv2D)          (None, 15, 20, 64)        18496     \n",
            "                                                                 \n",
            " leaky_re_lu_12 (LeakyReLU)  (None, 15, 20, 64)        0         \n",
            "                                                                 \n",
            " max_pooling2d_10 (MaxPoolin  (None, 8, 10, 64)        0         \n",
            " g2D)                                                            \n",
            "                                                                 \n",
            " conv2d_11 (Conv2D)          (None, 8, 10, 128)        73856     \n",
            "                                                                 \n",
            " leaky_re_lu_13 (LeakyReLU)  (None, 8, 10, 128)        0         \n",
            "                                                                 \n",
            " max_pooling2d_11 (MaxPoolin  (None, 4, 5, 128)        0         \n",
            " g2D)                                                            \n",
            "                                                                 \n",
            " flatten_2 (Flatten)         (None, 2560)              0         \n",
            "                                                                 \n",
            " dense_4 (Dense)             (None, 128)               327808    \n",
            "                                                                 \n",
            " leaky_re_lu_14 (LeakyReLU)  (None, 128)               0         \n",
            "                                                                 \n",
            " dense_5 (Dense)             (None, 4)                 516       \n",
            "                                                                 \n",
            "=================================================================\n",
            "Total params: 421,572\n",
            "Trainable params: 421,572\n",
            "Non-trainable params: 0\n",
            "_________________________________________________________________\n"
          ]
        }
      ]
    },
    {
      "cell_type": "code",
      "source": [
        "train = model.fit(photos_train, labels_train, batch_size, epochs=epochs, verbose=1)"
      ],
      "metadata": {
        "colab": {
          "base_uri": "https://localhost:8080/"
        },
        "id": "E5_GBKRmE038",
        "outputId": "dfabda8d-77ca-4c13-be38-a616afe2b39a"
      },
      "execution_count": 55,
      "outputs": [
        {
          "output_type": "stream",
          "name": "stdout",
          "text": [
            "Epoch 1/20\n",
            "3/3 [==============================] - 8s 113ms/step - loss: 1.2494 - accuracy: 0.3278\n",
            "Epoch 2/20\n",
            "3/3 [==============================] - 0s 11ms/step - loss: 0.7883 - accuracy: 0.7444\n",
            "Epoch 3/20\n",
            "3/3 [==============================] - 0s 8ms/step - loss: 0.3214 - accuracy: 1.0000\n",
            "Epoch 4/20\n",
            "3/3 [==============================] - 0s 7ms/step - loss: 0.0607 - accuracy: 1.0000\n",
            "Epoch 5/20\n",
            "3/3 [==============================] - 0s 10ms/step - loss: 0.0068 - accuracy: 1.0000\n",
            "Epoch 6/20\n",
            "3/3 [==============================] - 0s 9ms/step - loss: 4.8239e-04 - accuracy: 1.0000\n",
            "Epoch 7/20\n",
            "3/3 [==============================] - 0s 8ms/step - loss: 3.1680e-04 - accuracy: 1.0000\n",
            "Epoch 8/20\n",
            "3/3 [==============================] - 0s 8ms/step - loss: 3.0669e-04 - accuracy: 1.0000\n",
            "Epoch 9/20\n",
            "3/3 [==============================] - 0s 8ms/step - loss: 1.2981e-04 - accuracy: 1.0000\n",
            "Epoch 10/20\n",
            "3/3 [==============================] - 0s 8ms/step - loss: 2.7943e-05 - accuracy: 1.0000\n",
            "Epoch 11/20\n",
            "3/3 [==============================] - 0s 10ms/step - loss: 4.9461e-06 - accuracy: 1.0000\n",
            "Epoch 12/20\n",
            "3/3 [==============================] - 0s 8ms/step - loss: 1.3921e-06 - accuracy: 1.0000\n",
            "Epoch 13/20\n",
            "3/3 [==============================] - 0s 8ms/step - loss: 9.4638e-07 - accuracy: 1.0000\n",
            "Epoch 14/20\n",
            "3/3 [==============================] - 0s 8ms/step - loss: 6.0598e-07 - accuracy: 1.0000\n",
            "Epoch 15/20\n",
            "3/3 [==============================] - 0s 7ms/step - loss: 5.2055e-07 - accuracy: 1.0000\n",
            "Epoch 16/20\n",
            "3/3 [==============================] - 0s 7ms/step - loss: 4.8280e-07 - accuracy: 1.0000\n",
            "Epoch 17/20\n",
            "3/3 [==============================] - 0s 8ms/step - loss: 4.4968e-07 - accuracy: 1.0000\n",
            "Epoch 18/20\n",
            "3/3 [==============================] - 0s 10ms/step - loss: 4.2849e-07 - accuracy: 1.0000\n",
            "Epoch 19/20\n",
            "3/3 [==============================] - 0s 8ms/step - loss: 4.1789e-07 - accuracy: 1.0000\n",
            "Epoch 20/20\n",
            "3/3 [==============================] - 0s 8ms/step - loss: 4.0332e-07 - accuracy: 1.0000\n"
          ]
        }
      ]
    },
    {
      "cell_type": "code",
      "source": [
        "model.save('/content/drive/MyDrive/MyPicture/CNN/model_face.h5')\n",
        "accuracy =train.history['accuracy']\n",
        "loss = train.history['loss']\n",
        "epochs=range(len(accuracy))\n",
        "\n",
        "import matplotlib.pyplot as plt\n",
        "plt.plot(epochs, accuracy, 'bo', label='Training accuracy', color='green')\n",
        "plt.plot(epochs,loss , 'b', label ='Training loss')\n",
        "plt.show()"
      ],
      "metadata": {
        "colab": {
          "base_uri": "https://localhost:8080/",
          "height": 485
        },
        "id": "uT-cXw9dFbYi",
        "outputId": "6bf4203e-7244-41fa-a8ea-867bd9828a33"
      },
      "execution_count": 56,
      "outputs": [
        {
          "output_type": "stream",
          "name": "stderr",
          "text": [
            "<ipython-input-56-e3c66b1c690e>:7: UserWarning: color is redundantly defined by the 'color' keyword argument and the fmt string \"bo\" (-> color='b'). The keyword argument will take precedence.\n",
            "  plt.plot(epochs, accuracy, 'bo', label='Training accuracy', color='green')\n"
          ]
        },
        {
          "output_type": "display_data",
          "data": {
            "text/plain": [
              "<Figure size 640x480 with 1 Axes>"
            ],
            "image/png": "[encoded data removed]"
          },
          "metadata": {}
        }
      ]
    },
    {
      "cell_type": "code",
      "source": [
        "name={1:'ha', 2:'hau',3:'minh'}\n",
        "#test\n",
        "import numpy as np\n",
        "filePath = '/content/drive/MyDrive/MyPicture/face_data_test/Ha1.jpg'\n",
        "testImage = load_img(filePath, target_size=(30,40))\n",
        "arrayImage = img_to_array(testImage).reshape(1,30,40,3)/255\n",
        "pred = np.argmax(model.predict(arrayImage))\n",
        "print(\"Predicted: \", name[pred])\n",
        "plt.imshow(testImage)\n"
      ],
      "metadata": {
        "colab": {
          "base_uri": "https://localhost:8080/",
          "height": 482
        },
        "id": "t5PadxKHG3N-",
        "outputId": "edb278cf-a2a2-49ac-9042-933388c855f8"
      },
      "execution_count": 66,
      "outputs": [
        {
          "output_type": "stream",
          "name": "stdout",
          "text": [
            "1/1 [==============================] - 0s 17ms/step\n",
            "Predicted:  ha\n"
          ]
        },
        {
          "output_type": "execute_result",
          "data": {
            "text/plain": [
              "<matplotlib.image.AxesImage at 0x7f106046bb20>"
            ]
          },
          "metadata": {},
          "execution_count": 66
        },
        {
          "output_type": "display_data",
          "data": {
            "text/plain": [
              "<Figure size 640x480 with 1 Axes>"
            ],
            "image/png": "[encoded data removed]"
          },
          "metadata": {}
        }
      ]
    }
  ]
}