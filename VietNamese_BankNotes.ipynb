{
  "nbformat": 4,
  "nbformat_minor": 0,
  "metadata": {
    "colab": {
      "provenance": [],
      "mount_file_id": "1xEJtZYVJDp99dOO-5C0xQSm60CL0WN10",
      "authorship_tag": "ABX9TyPqasyK4jPxtlKWSpockaYv",
      "include_colab_link": true
    },
    "kernelspec": {
      "name": "python3",
      "display_name": "Python 3"
    },
    "language_info": {
      "name": "python"
    },
    "accelerator": "GPU",
    "gpuClass": "standard"
  },
  "cells": [
    {
      "cell_type": "markdown",
      "metadata": {
        "id": "view-in-github",
        "colab_type": "text"
      },
      "source": [
        "<a href=\"https://colab.research.google.com/github/haviet12/Artificial_Inteligent/blob/main/VietNamese_BankNotes.ipynb\" target=\"_parent\"><img src=\"https://colab.research.google.com/assets/colab-badge.svg\" alt=\"Open In Colab\"/></a>"
      ]
    },
    {
      "cell_type": "code",
      "execution_count": 2,
      "metadata": {
        "id": "RYWLgs8-tiZ6"
      },
      "outputs": [],
      "source": [
        "from os import listdir\n",
        "from numpy import asarray,save\n",
        "from keras.utils import load_img, img_to_array"
      ]
    },
    {
      "cell_type": "code",
      "source": [
        "## tạo dữ liệu để train\n",
        "folder = '/content/drive/MyDrive/MyPicture/Money_Data/money_train/'\n",
        "moneys_train, names_train = list(), list()\n",
        "for file in listdir(folder) :\n",
        "  output = 0.0\n",
        "  if file.startswith('200'):\n",
        "    output=1.0\n",
        "  if file.startswith('500'):\n",
        "    output=2.0\n",
        "  if file.startswith('1000'):\n",
        "    output=3.0\n",
        "  if file.startswith('2.000'):\n",
        "    output=4.0\n",
        "  if file.startswith('5.000'):\n",
        "    output=5.0\n",
        "  if file.startswith('10.000'):\n",
        "    output=6.0\n",
        "  if file.startswith('20.000'):\n",
        "    output=7.0\n",
        "  if file.startswith('50.000'):\n",
        "    output=8.0\n",
        "  if file.startswith('100.00'):\n",
        "    output=9.0\n",
        "  if file.startswith('200.000'):\n",
        "    output=10.0\n",
        "  if file.startswith('500.000'):\n",
        "    output=11.0\n",
        "  \n",
        "  photo = load_img(folder + file, target_size = (50,50))\n",
        "  photo = img_to_array(photo)\n",
        "  moneys_train.append(photo)\n",
        "  names_train.append(output)\n",
        "moneys_train = asarray(moneys_train)\n",
        "names_train = asarray(names_train)\n",
        "print(moneys_train.shape, names_train.shape)\n",
        "save('/content/drive/MyDrive/MyPicture/Money_Data/money.npy',moneys_train)\n",
        "save('/content/drive/MyDrive/MyPicture/Money_Data/name.npy',names_train)"
      ],
      "metadata": {
        "colab": {
          "base_uri": "https://localhost:8080/"
        },
        "id": "40oK87I3tqzN",
        "outputId": "0e73c880-4df8-4fe4-b50d-16b5f3b39cf4"
      },
      "execution_count": 4,
      "outputs": [
        {
          "output_type": "stream",
          "name": "stdout",
          "text": [
            "(2375, 50, 50, 3) (2375,)\n"
          ]
        }
      ]
    },
    {
      "cell_type": "code",
      "source": [
        "## tạo dữ liệu để train\n",
        "folder = '/content/drive/MyDrive/MyPicture/Money_Data/money_test/'\n",
        "moneys_test, names_test = list(), list()\n",
        "for file in listdir(folder) :\n",
        "  output = 0.0\n",
        "  if file.startswith('200'):\n",
        "    output=1.0\n",
        "  if file.startswith('500'):\n",
        "    output=2.0\n",
        "  if file.startswith('1000'):\n",
        "    output=3.0\n",
        "  if file.startswith('2.000'):\n",
        "    output=4.0\n",
        "  if file.startswith('5.000'):\n",
        "    output=5.0\n",
        "  if file.startswith('10.000'):\n",
        "    output=6.0\n",
        "  if file.startswith('20.000'):\n",
        "    output=7.0\n",
        "  if file.startswith('50.000'):\n",
        "    output=8.0\n",
        "  if file.startswith('100.00'):\n",
        "    output=9.0\n",
        "  if file.startswith('200.000'):\n",
        "    output=10.0\n",
        "  if file.startswith('500.000'):\n",
        "    output=11.0\n",
        "  \n",
        "  photo = load_img(folder + file, target_size = (50,50))\n",
        "  photo = img_to_array(photo)\n",
        "  moneys_test.append(photo)\n",
        "  names_test.append(output)\n",
        "moneys_test = asarray(moneys_test)\n",
        "names_test = asarray(names_test)\n",
        "print(moneys_test.shape, names_test.shape)\n",
        "save('/content/drive/MyDrive/MyPicture/Money_Data/money_test.npy',moneys_test)\n",
        "save('/content/drive/MyDrive/MyPicture/Money_Data/name_test.npy',names_test)"
      ],
      "metadata": {
        "colab": {
          "base_uri": "https://localhost:8080/"
        },
        "id": "qQA8EEbpv7BR",
        "outputId": "b7edd85a-d281-4102-ac30-2c8c4cf010a3"
      },
      "execution_count": 5,
      "outputs": [
        {
          "output_type": "stream",
          "name": "stdout",
          "text": [
            "(375, 50, 50, 3) (375,)\n"
          ]
        }
      ]
    },
    {
      "cell_type": "code",
      "source": [
        "moneys_train = moneys_train.astype('float')/255.0\n",
        "moneys_test = moneys_test.astype('float')/255.0"
      ],
      "metadata": {
        "id": "S93Nf5_3wU4H"
      },
      "execution_count": 6,
      "outputs": []
    },
    {
      "cell_type": "code",
      "source": [
        "\n",
        "from keras.utils import to_categorical\n",
        "\n",
        "names_train = to_categorical(names_train)\n",
        "names_test = to_categorical(names_test)\n",
        "\n",
        "print(names_train.shape)\n",
        "print(names_test.shape)"
      ],
      "metadata": {
        "colab": {
          "base_uri": "https://localhost:8080/"
        },
        "id": "WgLwSLeFwkhZ",
        "outputId": "b8840a5a-c56a-4510-ccbf-f6273679edf5"
      },
      "execution_count": 7,
      "outputs": [
        {
          "output_type": "stream",
          "name": "stdout",
          "text": [
            "(2375, 12)\n",
            "(375, 12)\n"
          ]
        }
      ]
    },
    {
      "cell_type": "code",
      "source": [
        "from keras import models\n",
        "from keras.models import Sequential, Model\n",
        "from keras.layers import Dense, Dropout, Flatten, Conv2D, Normalization, MaxPooling2D\n",
        "from keras.optimizers import Adam\n",
        "from keras.layers import LeakyReLU\n",
        "\n",
        "\n",
        "############## \n",
        "batch_size=64\n",
        "epochs =20\n",
        "classes =12"
      ],
      "metadata": {
        "id": "f5RmKf65wiSu"
      },
      "execution_count": 16,
      "outputs": []
    },
    {
      "cell_type": "code",
      "source": [
        "model=Sequential()\n",
        "model.add(Conv2D(32, kernel_size=(3,3), activation='linear',input_shape=(50,50,3), padding='same'))\n",
        "model.add(LeakyReLU(alpha=0.1))\n",
        "model.add(MaxPooling2D((2,2), padding='same'))\n",
        "\n",
        "model.add(Conv2D(64,(3,3),activation='linear', padding='same'))\n",
        "model.add(LeakyReLU(alpha=0.1))\n",
        "model.add(MaxPooling2D((2,2), padding='same'))\n",
        "\n",
        "model.add(Conv2D(128,(3,3),activation='linear', padding='same'))\n",
        "model.add(LeakyReLU(alpha=0.1))\n",
        "model.add(MaxPooling2D((2,2), padding='same'))\n",
        "     "
      ],
      "metadata": {
        "id": "sFNizOFcwxjQ"
      },
      "execution_count": 17,
      "outputs": []
    },
    {
      "cell_type": "code",
      "source": [
        "model.add(Flatten())\n",
        "model.add(Dense(128,activation='linear'))\n",
        "model.add(LeakyReLU(alpha=0.1))\n",
        "model.add(Dense(classes, activation='softmax'))"
      ],
      "metadata": {
        "id": "1DIcpNitwzYc"
      },
      "execution_count": 18,
      "outputs": []
    },
    {
      "cell_type": "code",
      "source": [
        "model.compile(loss='categorical_crossentropy', optimizer=Adam(), metrics=['accuracy'])\n",
        "model.summary()"
      ],
      "metadata": {
        "colab": {
          "base_uri": "https://localhost:8080/"
        },
        "id": "wHO96bU_w1Fd",
        "outputId": "505d5f45-68a0-4a58-a639-998890098482"
      },
      "execution_count": 19,
      "outputs": [
        {
          "output_type": "stream",
          "name": "stdout",
          "text": [
            "Model: \"sequential_2\"\n",
            "_________________________________________________________________\n",
            " Layer (type)                Output Shape              Param #   \n",
            "=================================================================\n",
            " conv2d_6 (Conv2D)           (None, 50, 50, 32)        896       \n",
            "                                                                 \n",
            " leaky_re_lu_7 (LeakyReLU)   (None, 50, 50, 32)        0         \n",
            "                                                                 \n",
            " max_pooling2d_6 (MaxPooling  (None, 25, 25, 32)       0         \n",
            " 2D)                                                             \n",
            "                                                                 \n",
            " conv2d_7 (Conv2D)           (None, 25, 25, 64)        18496     \n",
            "                                                                 \n",
            " leaky_re_lu_8 (LeakyReLU)   (None, 25, 25, 64)        0         \n",
            "                                                                 \n",
            " max_pooling2d_7 (MaxPooling  (None, 13, 13, 64)       0         \n",
            " 2D)                                                             \n",
            "                                                                 \n",
            " conv2d_8 (Conv2D)           (None, 13, 13, 128)       73856     \n",
            "                                                                 \n",
            " leaky_re_lu_9 (LeakyReLU)   (None, 13, 13, 128)       0         \n",
            "                                                                 \n",
            " max_pooling2d_8 (MaxPooling  (None, 7, 7, 128)        0         \n",
            " 2D)                                                             \n",
            "                                                                 \n",
            " flatten_1 (Flatten)         (None, 6272)              0         \n",
            "                                                                 \n",
            " dense_2 (Dense)             (None, 128)               802944    \n",
            "                                                                 \n",
            " leaky_re_lu_10 (LeakyReLU)  (None, 128)               0         \n",
            "                                                                 \n",
            " dense_3 (Dense)             (None, 12)                1548      \n",
            "                                                                 \n",
            "=================================================================\n",
            "Total params: 897,740\n",
            "Trainable params: 897,740\n",
            "Non-trainable params: 0\n",
            "_________________________________________________________________\n"
          ]
        }
      ]
    },
    {
      "cell_type": "code",
      "source": [
        "train = model.fit(moneys_train, names_train, batch_size, epochs=epochs, verbose=1)"
      ],
      "metadata": {
        "colab": {
          "base_uri": "https://localhost:8080/"
        },
        "id": "-yunhY5axEi-",
        "outputId": "bcfcef53-236e-4a34-ec1d-a7af3b7eea67"
      },
      "execution_count": 20,
      "outputs": [
        {
          "output_type": "stream",
          "name": "stdout",
          "text": [
            "Epoch 1/20\n",
            "38/38 [==============================] - 9s 13ms/step - loss: 1.7403 - accuracy: 0.3461\n",
            "Epoch 2/20\n",
            "38/38 [==============================] - 0s 9ms/step - loss: 0.8333 - accuracy: 0.6867\n",
            "Epoch 3/20\n",
            "38/38 [==============================] - 0s 8ms/step - loss: 0.4545 - accuracy: 0.8320\n",
            "Epoch 4/20\n",
            "38/38 [==============================] - 0s 8ms/step - loss: 0.3551 - accuracy: 0.8720\n",
            "Epoch 5/20\n",
            "38/38 [==============================] - 0s 9ms/step - loss: 0.1774 - accuracy: 0.9364\n",
            "Epoch 6/20\n",
            "38/38 [==============================] - 0s 9ms/step - loss: 0.0943 - accuracy: 0.9722\n",
            "Epoch 7/20\n",
            "38/38 [==============================] - 0s 9ms/step - loss: 0.1132 - accuracy: 0.9596\n",
            "Epoch 8/20\n",
            "38/38 [==============================] - 0s 9ms/step - loss: 0.0835 - accuracy: 0.9726\n",
            "Epoch 9/20\n",
            "38/38 [==============================] - 0s 9ms/step - loss: 0.0602 - accuracy: 0.9815\n",
            "Epoch 10/20\n",
            "38/38 [==============================] - 0s 9ms/step - loss: 0.0525 - accuracy: 0.9815\n",
            "Epoch 11/20\n",
            "38/38 [==============================] - 1s 13ms/step - loss: 0.0304 - accuracy: 0.9916\n",
            "Epoch 12/20\n",
            "38/38 [==============================] - 0s 9ms/step - loss: 0.0142 - accuracy: 0.9958\n",
            "Epoch 13/20\n",
            "38/38 [==============================] - 0s 13ms/step - loss: 0.0086 - accuracy: 0.9975\n",
            "Epoch 14/20\n",
            "38/38 [==============================] - 0s 8ms/step - loss: 0.0091 - accuracy: 0.9979\n",
            "Epoch 15/20\n",
            "38/38 [==============================] - 0s 11ms/step - loss: 0.0025 - accuracy: 1.0000\n",
            "Epoch 16/20\n",
            "38/38 [==============================] - 0s 10ms/step - loss: 0.0014 - accuracy: 1.0000\n",
            "Epoch 17/20\n",
            "38/38 [==============================] - 0s 8ms/step - loss: 8.7171e-04 - accuracy: 1.0000\n",
            "Epoch 18/20\n",
            "38/38 [==============================] - 0s 8ms/step - loss: 6.7598e-04 - accuracy: 1.0000\n",
            "Epoch 19/20\n",
            "38/38 [==============================] - 0s 9ms/step - loss: 6.1878e-04 - accuracy: 1.0000\n",
            "Epoch 20/20\n",
            "38/38 [==============================] - 0s 9ms/step - loss: 4.9702e-04 - accuracy: 1.0000\n"
          ]
        }
      ]
    },
    {
      "cell_type": "code",
      "source": [
        "\n",
        "model.save('/content/drive/MyDrive/MyPicture/Money_Data/model_money.h5')\n",
        "accuracy =train.history['accuracy']\n",
        "loss = train.history['loss']\n",
        "epochs=range(len(accuracy))\n",
        "\n",
        "import matplotlib.pyplot as plt\n",
        "plt.plot(epochs, accuracy, 'bo', label='Training accuracy', color='green')\n",
        "plt.plot(epochs,loss , 'b', label ='Training loss')\n",
        "plt.show()"
      ],
      "metadata": {
        "colab": {
          "base_uri": "https://localhost:8080/",
          "height": 485
        },
        "id": "xpU10CI-xXIk",
        "outputId": "bf508e80-82f2-4fd3-9140-f6a18648e9c7"
      },
      "execution_count": 21,
      "outputs": [
        {
          "output_type": "stream",
          "name": "stderr",
          "text": [
            "<ipython-input-21-adffadd532a2>:7: UserWarning: color is redundantly defined by the 'color' keyword argument and the fmt string \"bo\" (-> color='b'). The keyword argument will take precedence.\n",
            "  plt.plot(epochs, accuracy, 'bo', label='Training accuracy', color='green')\n"
          ]
        },
        {
          "output_type": "display_data",
          "data": {
            "text/plain": [
              "<Figure size 640x480 with 1 Axes>"
            ],
            "image/png": "[encoded data removed]"
          },
          "metadata": {}
        }
      ]
    },
    {
      "cell_type": "code",
      "source": [
        "name={1:'200', 2:'500',3:'1.000',4:'2.000',5:'5.000',6:'10.000',7:'20.000',8:'50.000',9:'100.000',10:'200.000',11:'500.000'}\n",
        "#test\n",
        "import numpy as np\n",
        "filePath = '/content/drive/MyDrive/MyPicture/Money_Data/10K.jpg'\n",
        "testImage = load_img(filePath, target_size=(50,50))\n",
        "arrayImage = img_to_array(testImage).reshape(1,50,50,3)/255\n",
        "pred = np.argmax(model.predict(arrayImage))\n",
        "print(\"Predicted: \", name[pred])\n",
        "plt.imshow(testImage)\n"
      ],
      "metadata": {
        "colab": {
          "base_uri": "https://localhost:8080/",
          "height": 484
        },
        "id": "6b38rx-fxjPi",
        "outputId": "341d8010-9749-4f39-e2d3-11ccef4bdd6a"
      },
      "execution_count": 24,
      "outputs": [
        {
          "output_type": "stream",
          "name": "stdout",
          "text": [
            "1/1 [==============================] - 0s 20ms/step\n",
            "Predicted:  2.000\n"
          ]
        },
        {
          "output_type": "execute_result",
          "data": {
            "text/plain": [
              "<matplotlib.image.AxesImage at 0x7f94958f83d0>"
            ]
          },
          "metadata": {},
          "execution_count": 24
        },
        {
          "output_type": "display_data",
          "data": {
            "text/plain": [
              "<Figure size 640x480 with 1 Axes>"
            ],
            "image/png": "[encoded data removed]"
          },
          "metadata": {}
        }
      ]
    }
  ]
}