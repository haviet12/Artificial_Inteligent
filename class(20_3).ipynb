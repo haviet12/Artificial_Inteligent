{
  "nbformat": 4,
  "nbformat_minor": 0,
  "metadata": {
    "colab": {
      "provenance": [],
      "authorship_tag": "ABX9TyMic8oF7bIS6VAp6sZF8RQ1",
      "include_colab_link": true
    },
    "kernelspec": {
      "name": "python3",
      "display_name": "Python 3"
    },
    "language_info": {
      "name": "python"
    }
  },
  "cells": [
    {
      "cell_type": "markdown",
      "metadata": {
        "id": "view-in-github",
        "colab_type": "text"
      },
      "source": [
        "<a href=\"https://colab.research.google.com/github/haviet12/Artificial_Inteligent/blob/main/class(20_3).ipynb\" target=\"_parent\"><img src=\"https://colab.research.google.com/assets/colab-badge.svg\" alt=\"Open In Colab\"/></a>"
      ]
    },
    {
      "cell_type": "code",
      "execution_count": null,
      "metadata": {
        "id": "n0js7fTPjfrm"
      },
      "outputs": [],
      "source": [
        "from sklearn.linear_model import Perceptron\n",
        "x=[[0,0],[0,1],[1,0],[1,1]]\n",
        "t=[0,1,1,1]\n"
      ]
    },
    {
      "cell_type": "code",
      "source": [
        "# tinh do chinh xac (tinh theo %)\n",
        "model = Perceptron()\n",
        "model.fit(x,t)\n",
        "model.score(x,t)"
      ],
      "metadata": {
        "colab": {
          "base_uri": "https://localhost:8080/"
        },
        "id": "tAHVdC00uTvJ",
        "outputId": "26409392-a800-4f38-a08b-f9daf6aaee99"
      },
      "execution_count": null,
      "outputs": [
        {
          "output_type": "execute_result",
          "data": {
            "text/plain": [
              "1.0"
            ]
          },
          "metadata": {},
          "execution_count": 4
        }
      ]
    },
    {
      "cell_type": "code",
      "source": [
        "x1=[[0.5,0.5],[0.55,0],[0.6,0]]\n",
        "y1=model.predict(x1)\n",
        "print(y1)\n",
        "model.score(x1,y1)\n"
      ],
      "metadata": {
        "colab": {
          "base_uri": "https://localhost:8080/"
        },
        "id": "xrV09hlJuh-H",
        "outputId": "cd6574ec-6b13-49de-bd4e-49fb1bff7c57"
      },
      "execution_count": null,
      "outputs": [
        {
          "output_type": "stream",
          "name": "stdout",
          "text": [
            "[1 1 1]\n"
          ]
        },
        {
          "output_type": "execute_result",
          "data": {
            "text/plain": [
              "1.0"
            ]
          },
          "metadata": {},
          "execution_count": 23
        }
      ]
    },
    {
      "cell_type": "code",
      "source": [
        "x=[[-0.5,-0.5],[-0.5,0.5],[0.3,0.5],[-0.1,1]]\n",
        "t=[1,1,0,0]\n",
        "model =Perceptron()\n",
        "model.fit(x,t)\n",
        "model.score(x,t)"
      ],
      "metadata": {
        "colab": {
          "base_uri": "https://localhost:8080/"
        },
        "id": "Y_XRTxqBv4ZK",
        "outputId": "aee02579-6c25-478b-f0ec-b9af9bdbb28f"
      },
      "execution_count": null,
      "outputs": [
        {
          "output_type": "execute_result",
          "data": {
            "text/plain": [
              "1.0"
            ]
          },
          "metadata": {},
          "execution_count": 26
        }
      ]
    },
    {
      "cell_type": "code",
      "source": [
        "x1=[[0,0.1],[0.2,0],[0.2,0.2]]\n",
        "y1=model.predict(x1)\n",
        "print(y1)"
      ],
      "metadata": {
        "colab": {
          "base_uri": "https://localhost:8080/"
        },
        "id": "WQEZxprmzpKR",
        "outputId": "8d5ec739-b4e5-4e46-8ecd-8051ef0b0df7"
      },
      "execution_count": null,
      "outputs": [
        {
          "output_type": "stream",
          "name": "stdout",
          "text": [
            "[0 0 0]\n"
          ]
        }
      ]
    },
    {
      "cell_type": "code",
      "source": [
        "##############################\n",
        "# dữ liệu để train không được dùng để test ( sảy ra lỗi overfit)\n",
        "from sklearn.linear_model import Perceptron\n",
        "from sklearn import datasets\n",
        "from sklearn.model_selection import train_test_split # chia ra 7 phan train va 3 phan test\n",
        "from sklearn.metrics import accuracy_score\n",
        "from sklearn.preprocessing import StandardScaler\n",
        "\n"
      ],
      "metadata": {
        "id": "FOSOwJ-x2SBO"
      },
      "execution_count": null,
      "outputs": []
    },
    {
      "cell_type": "code",
      "source": [
        "iris = datasets.load_iris()\n",
        "X = iris.data\n",
        "Y = iris.target\n",
        "print(X[:5])\n",
        "print(Y[:5])"
      ],
      "metadata": {
        "colab": {
          "base_uri": "https://localhost:8080/"
        },
        "id": "wa_E5SbQ35iK",
        "outputId": "49a8bb90-2190-4357-9f84-720c7734ccb2"
      },
      "execution_count": null,
      "outputs": [
        {
          "output_type": "stream",
          "name": "stdout",
          "text": [
            "[[5.1 3.5 1.4 0.2]\n",
            " [4.9 3.  1.4 0.2]\n",
            " [4.7 3.2 1.3 0.2]\n",
            " [4.6 3.1 1.5 0.2]\n",
            " [5.  3.6 1.4 0.2]]\n",
            "[0 0 0 0 0]\n"
          ]
        }
      ]
    },
    {
      "cell_type": "code",
      "source": [
        "X_train, X_test, y_train, y_test=train_test_split(X,Y,test_size=0.3)\n",
        "sc=StandardScaler()\n",
        "sc.fit(X_train)\n",
        "X_train_std=sc.transform(X_train)\n",
        "X_test_std=sc.transform(X_test)\n",
        "print(X_train_std[:5], X_train[:5])\n",
        "print(Y[:5])"
      ],
      "metadata": {
        "colab": {
          "base_uri": "https://localhost:8080/"
        },
        "id": "hmwRv_LB47Ui",
        "outputId": "a89de656-e8e4-4cef-dd48-61ec6d646536"
      },
      "execution_count": null,
      "outputs": [
        {
          "output_type": "stream",
          "name": "stdout",
          "text": [
            "[[-1.02083212  1.19350699 -1.31398738 -1.3184716 ]\n",
            " [-0.54812044  1.87090285 -1.14648191 -1.05351559]\n",
            " [ 0.9881925   0.06451389  0.36106735  0.27126449]\n",
            " [-1.25718795 -0.16128473 -1.31398738 -1.1859936 ]\n",
            " [-1.61172171 -1.74187507 -1.36982254 -1.1859936 ]] [[5.  3.6 1.4 0.2]\n",
            " [5.4 3.9 1.7 0.4]\n",
            " [6.7 3.1 4.4 1.4]\n",
            " [4.8 3.  1.4 0.3]\n",
            " [4.5 2.3 1.3 0.3]]\n",
            "[0 0 0 0 0]\n"
          ]
        }
      ]
    },
    {
      "cell_type": "code",
      "source": [
        "model= Perceptron(max_iter=50,eta0=0.1, random_state=0)\n",
        "# số lần học : max_iter\n",
        "# tốc độ học : eta0\n",
        "# random_state : trạng tháo giá trị ngẫu nhiên \n",
        "model.fit(X_train_std,y_train)\n",
        "y_pred=model.predict(X_test_std)\n",
        "print(y_pred)\n",
        "print(y_test)\n",
        "print('Độ chính xác mô hình:', accuracy_score(y_test,y_pred))\n"
      ],
      "metadata": {
        "colab": {
          "base_uri": "https://localhost:8080/"
        },
        "id": "xU8CjjyM8nxo",
        "outputId": "356d8ed0-220f-43f9-b946-e32a83fce290"
      },
      "execution_count": null,
      "outputs": [
        {
          "output_type": "stream",
          "name": "stdout",
          "text": [
            "[1 2 2 0 0 0 1 1 1 2 1 2 1 0 0 0 1 0 2 1 1 0 1 1 2 1 1 0 2 0 2 1 1 1 0 0 2\n",
            " 1 1 2 2 1 0 0 2]\n",
            "[1 2 2 0 0 0 1 1 1 2 1 2 2 0 0 0 1 0 2 1 1 0 1 1 2 1 1 0 2 0 2 1 1 1 0 0 2\n",
            " 1 1 2 2 1 0 0 2]\n",
            "Độ chính xác mô hình: 0.9777777777777777\n"
          ]
        }
      ]
    },
    {
      "cell_type": "code",
      "source": [
        "\n",
        "# from sklearn.linear_model import Perceptron\n",
        "# from sklearn import datasets\n",
        "# from sklearn.model_selection import train_test_split # chia ra 7 phan train, 3 phan test\n",
        "# from sklearn.metrics import accuracy_score\n",
        "\n",
        "# from sklearn.preprocessing import StandardScaler\n",
        "# #scale các dữ liệu không đều theo 1 tỉ lệ từ 0 -> 1\n",
        "\n",
        "# iris = datasets.load_iris()\n",
        "# X = iris.data\n",
        "# y = iris.target\n",
        "\n",
        "# print(X[:5])\n",
        "# print(y[:5])\n",
        "# X_train, X_test, y_train, y_test = train_test_split(X,y,test_size = 0.3) #test =0.3, train = 0.7\n",
        "# sc =  StandardScaler()\n",
        "# sc.fit(X_train)\n",
        "# X_train_std = sc.transform(X_train)\n",
        "# X_test_std = sc.transform(X_test)\n",
        "\n",
        "# print(X_train_std[:5],X_train[:5])\n",
        "# print(y[:5])\n",
        "# model = Perceptron(max_iter= 40, eta0 = 0.1, random_state = 0)\n",
        "# # số lần học: max_iter \n",
        "# # eta0 :  tốc độ học  giá trị từ 0 đến 1\n",
        "# # random_state : trạng thái giá trị ngẫu nhiên\n",
        "\n",
        "# model.fit(X_train_std, y_train)\n",
        "# y_pred = model.predict(X_test_std)\n",
        "# print(y_pred)\n",
        "# print(y_test)\n",
        "# print('Độ chính xác mô hình: ', accuracy_score(y_test, y_pred))"
      ],
      "metadata": {
        "colab": {
          "base_uri": "https://localhost:8080/"
        },
        "id": "OX-FszxuAnxU",
        "outputId": "34b8be11-14af-4537-e861-071399d04943"
      },
      "execution_count": 1,
      "outputs": [
        {
          "output_type": "stream",
          "name": "stdout",
          "text": [
            "[[5.1 3.5 1.4 0.2]\n",
            " [4.9 3.  1.4 0.2]\n",
            " [4.7 3.2 1.3 0.2]\n",
            " [4.6 3.1 1.5 0.2]\n",
            " [5.  3.6 1.4 0.2]]\n",
            "[0 0 0 0 0]\n",
            "[[ 0.72776202 -0.51915423  0.41713543  0.31691049]\n",
            " [-0.33849396 -0.76581122  0.18691614  0.05070568]\n",
            " [-0.10154819 -0.51915423  0.70490954  1.51483216]\n",
            " [-0.57543973  2.19407265 -1.48217372 -1.14721598]\n",
            " [ 2.03096376 -0.02584026  1.56823188  1.11552493]] [[6.5 2.8 4.6 1.5]\n",
            " [5.6 2.7 4.2 1.3]\n",
            " [5.8 2.8 5.1 2.4]\n",
            " [5.4 3.9 1.3 0.4]\n",
            " [7.6 3.  6.6 2.1]]\n",
            "[0 0 0 0 0]\n",
            "[0 1 2 1 0 0 0 0 1 2 1 0 1 0 0 1 0 2 2 0 1 1 0 2 1 2 2 2 2 2 0 2 2 0 1 2 0\n",
            " 0 1 1 2 0 0 0 2]\n",
            "[0 1 2 1 0 0 0 0 1 2 1 0 1 0 0 1 0 1 1 0 1 1 0 2 1 2 2 1 2 2 0 2 2 0 1 2 0\n",
            " 0 1 1 2 0 0 0 2]\n",
            "Độ chính xác mô hình:  0.9333333333333333\n"
          ]
        }
      ]
    }
  ]
}