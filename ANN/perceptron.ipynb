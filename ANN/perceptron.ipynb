{
  "nbformat": 4,
  "nbformat_minor": 0,
  "metadata": {
    "colab": {
      "provenance": [],
      "authorship_tag": "ABX9TyOvpRl0XXoZFcbjVbVWq0JJ",
      "include_colab_link": true
    },
    "kernelspec": {
      "name": "python3",
      "display_name": "Python 3"
    },
    "language_info": {
      "name": "python"
    }
  },
  "cells": [
    {
      "cell_type": "markdown",
      "metadata": {
        "id": "view-in-github",
        "colab_type": "text"
      },
      "source": [
        "<a href=\"https://colab.research.google.com/github/haviet12/Artificial_Inteligent/blob/main/class(20_3).ipynb\" target=\"_parent\"><img src=\"https://colab.research.google.com/assets/colab-badge.svg\" alt=\"Open In Colab\"/></a>"
      ]
    },
    {
      "cell_type": "code",
      "execution_count": 28,
      "metadata": {
        "id": "n0js7fTPjfrm"
      },
      "outputs": [],
      "source": [
        "from sklearn.linear_model import Perceptron\n",
        "x=[[0,0],[0,1],[1,0],[1,1]]\n",
        "t=[0,1,1,1]\n"
      ]
    },
    {
      "cell_type": "code",
      "source": [
        "# tinh do chinh xac (tinh theo %)\n",
        "model = Perceptron()\n",
        "model.fit(x,t)\n",
        "model.score(x,t)"
      ],
      "metadata": {
        "colab": {
          "base_uri": "https://localhost:8080/"
        },
        "id": "tAHVdC00uTvJ",
        "outputId": "a60e9044-3d0a-4e90-879f-9e10388024e8"
      },
      "execution_count": 29,
      "outputs": [
        {
          "output_type": "execute_result",
          "data": {
            "text/plain": [
              "1.0"
            ]
          },
          "metadata": {},
          "execution_count": 29
        }
      ]
    },
    {
      "cell_type": "code",
      "source": [
        "x1=[[0.5,0.5],[0.55,0],[0.6,0]]\n",
        "y1=model.predict(x1)\n",
        "print(y1)\n",
        "model.score(x1,y1)\n"
      ],
      "metadata": {
        "colab": {
          "base_uri": "https://localhost:8080/",
          "height": 217
        },
        "id": "xrV09hlJuh-H",
        "outputId": "8def087f-f28f-49ef-b522-881b109cbac5"
      },
      "execution_count": 30,
      "outputs": [
        {
          "output_type": "stream",
          "name": "stdout",
          "text": [
            "[1 1 1]\n"
          ]
        },
        {
          "output_type": "error",
          "ename": "NameError",
          "evalue": "ignored",
          "traceback": [
            "\u001b[0;31m---------------------------------------------------------------------------\u001b[0m",
            "\u001b[0;31mNameError\u001b[0m                                 Traceback (most recent call last)",
            "\u001b[0;32m<ipython-input-30-a5f21520ca3b>\u001b[0m in \u001b[0;36m<module>\u001b[0;34m\u001b[0m\n\u001b[1;32m      5\u001b[0m \u001b[0;32mimport\u001b[0m \u001b[0mmatplotlib\u001b[0m\u001b[0;34m.\u001b[0m\u001b[0mpyplot\u001b[0m \u001b[0;32mas\u001b[0m \u001b[0mplt\u001b[0m\u001b[0;34m\u001b[0m\u001b[0;34m\u001b[0m\u001b[0m\n\u001b[1;32m      6\u001b[0m \u001b[0;34m\u001b[0m\u001b[0m\n\u001b[0;32m----> 7\u001b[0;31m \u001b[0mplot\u001b[0m\u001b[0;34m.\u001b[0m\u001b[0mplt\u001b[0m\u001b[0;34m(\u001b[0m\u001b[0mx1\u001b[0m\u001b[0;34m,\u001b[0m\u001b[0my1\u001b[0m\u001b[0;34m,\u001b[0m \u001b[0;34m'green'\u001b[0m\u001b[0;34m)\u001b[0m\u001b[0;34m\u001b[0m\u001b[0;34m\u001b[0m\u001b[0m\n\u001b[0m",
            "\u001b[0;31mNameError\u001b[0m: name 'plot' is not defined"
          ]
        }
      ]
    },
    {
      "cell_type": "code",
      "source": [
        "x=[[-0.5,-0.5],[-0.5,0.5],[0.3,0.5],[-0.1,1]]\n",
        "t=[1,1,0,0]\n",
        "model =Perceptron()\n",
        "model.fit(x,t)\n",
        "model.score(x,t)"
      ],
      "metadata": {
        "colab": {
          "base_uri": "https://localhost:8080/"
        },
        "id": "Y_XRTxqBv4ZK",
        "outputId": "aee02579-6c25-478b-f0ec-b9af9bdbb28f"
      },
      "execution_count": null,
      "outputs": [
        {
          "output_type": "execute_result",
          "data": {
            "text/plain": [
              "1.0"
            ]
          },
          "metadata": {},
          "execution_count": 26
        }
      ]
    },
    {
      "cell_type": "code",
      "source": [
        "x1=[[0,0.1],[0.2,0],[0.2,0.2]]\n",
        "y1=model.predict(x1)\n",
        "print(y1)"
      ],
      "metadata": {
        "colab": {
          "base_uri": "https://localhost:8080/"
        },
        "id": "WQEZxprmzpKR",
        "outputId": "8d5ec739-b4e5-4e46-8ecd-8051ef0b0df7"
      },
      "execution_count": null,
      "outputs": [
        {
          "output_type": "stream",
          "name": "stdout",
          "text": [
            "[0 0 0]\n"
          ]
        }
      ]
    },
    {
      "cell_type": "code",
      "source": [
        "##############################\n",
        "# dữ liệu để train không được dùng để test ( sảy ra lỗi overfit)\n",
        "from sklearn.linear_model import Perceptron\n",
        "from sklearn import datasets\n",
        "from sklearn.model_selection import train_test_split # chia ra 7 phan train va 3 phan test\n",
        "from sklearn.metrics import accuracy_score\n",
        "from sklearn.preprocessing import StandardScaler\n",
        "\n"
      ],
      "metadata": {
        "id": "FOSOwJ-x2SBO"
      },
      "execution_count": null,
      "outputs": []
    },
    {
      "cell_type": "code",
      "source": [
        "iris = datasets.load_iris()\n",
        "X = iris.data\n",
        "Y = iris.target\n",
        "print(X[:5])\n",
        "print(Y[:5])"
      ],
      "metadata": {
        "colab": {
          "base_uri": "https://localhost:8080/"
        },
        "id": "wa_E5SbQ35iK",
        "outputId": "49a8bb90-2190-4357-9f84-720c7734ccb2"
      },
      "execution_count": null,
      "outputs": [
        {
          "output_type": "stream",
          "name": "stdout",
          "text": [
            "[[5.1 3.5 1.4 0.2]\n",
            " [4.9 3.  1.4 0.2]\n",
            " [4.7 3.2 1.3 0.2]\n",
            " [4.6 3.1 1.5 0.2]\n",
            " [5.  3.6 1.4 0.2]]\n",
            "[0 0 0 0 0]\n"
          ]
        }
      ]
    },
    {
      "cell_type": "code",
      "source": [
        "X_train, X_test, y_train, y_test=train_test_split(X,Y,test_size=0.3)\n",
        "sc=StandardScaler()\n",
        "sc.fit(X_train)\n",
        "X_train_std=sc.transform(X_train)\n",
        "X_test_std=sc.transform(X_test)\n",
        "print(X_train_std[:5], X_train[:5])\n",
        "print(Y[:5])"
      ],
      "metadata": {
        "colab": {
          "base_uri": "https://localhost:8080/"
        },
        "id": "hmwRv_LB47Ui",
        "outputId": "a89de656-e8e4-4cef-dd48-61ec6d646536"
      },
      "execution_count": null,
      "outputs": [
        {
          "output_type": "stream",
          "name": "stdout",
          "text": [
            "[[-1.02083212  1.19350699 -1.31398738 -1.3184716 ]\n",
            " [-0.54812044  1.87090285 -1.14648191 -1.05351559]\n",
            " [ 0.9881925   0.06451389  0.36106735  0.27126449]\n",
            " [-1.25718795 -0.16128473 -1.31398738 -1.1859936 ]\n",
            " [-1.61172171 -1.74187507 -1.36982254 -1.1859936 ]] [[5.  3.6 1.4 0.2]\n",
            " [5.4 3.9 1.7 0.4]\n",
            " [6.7 3.1 4.4 1.4]\n",
            " [4.8 3.  1.4 0.3]\n",
            " [4.5 2.3 1.3 0.3]]\n",
            "[0 0 0 0 0]\n"
          ]
        }
      ]
    },
    {
      "cell_type": "code",
      "source": [
        "model= Perceptron(max_iter=50,eta0=0.1, random_state=0)\n",
        "# số lần học : max_iter\n",
        "# tốc độ học : eta0\n",
        "# random_state : trạng tháo giá trị ngẫu nhiên \n",
        "model.fit(X_train_std,y_train)\n",
        "y_pred=model.predict(X_test_std)\n",
        "print(y_pred)\n",
        "print(y_test)\n",
        "print('Độ chính xác mô hình:', accuracy_score(y_test,y_pred))\n"
      ],
      "metadata": {
        "colab": {
          "base_uri": "https://localhost:8080/"
        },
        "id": "xU8CjjyM8nxo",
        "outputId": "356d8ed0-220f-43f9-b946-e32a83fce290"
      },
      "execution_count": null,
      "outputs": [
        {
          "output_type": "stream",
          "name": "stdout",
          "text": [
            "[1 2 2 0 0 0 1 1 1 2 1 2 1 0 0 0 1 0 2 1 1 0 1 1 2 1 1 0 2 0 2 1 1 1 0 0 2\n",
            " 1 1 2 2 1 0 0 2]\n",
            "[1 2 2 0 0 0 1 1 1 2 1 2 2 0 0 0 1 0 2 1 1 0 1 1 2 1 1 0 2 0 2 1 1 1 0 0 2\n",
            " 1 1 2 2 1 0 0 2]\n",
            "Độ chính xác mô hình: 0.9777777777777777\n"
          ]
        }
      ]
    },
    {
      "cell_type": "code",
      "source": [
        "\n",
        "# from sklearn.linear_model import Perceptron\n",
        "# from sklearn import datasets\n",
        "# from sklearn.model_selection import train_test_split # chia ra 7 phan train, 3 phan test\n",
        "# from sklearn.metrics import accuracy_score\n",
        "\n",
        "# from sklearn.preprocessing import StandardScaler\n",
        "# #scale các dữ liệu không đều theo 1 tỉ lệ từ 0 -> 1\n",
        "\n",
        "# iris = datasets.load_iris()\n",
        "# X = iris.data\n",
        "# y = iris.target\n",
        "\n",
        "# print(X[:5])\n",
        "# print(y[:5])\n",
        "# X_train, X_test, y_train, y_test = train_test_split(X,y,test_size = 0.3) #test =0.3, train = 0.7\n",
        "# sc =  StandardScaler()\n",
        "# sc.fit(X_train)\n",
        "# X_train_std = sc.transform(X_train)\n",
        "# X_test_std = sc.transform(X_test)\n",
        "\n",
        "# print(X_train_std[:5],X_train[:5])\n",
        "# print(y[:5])\n",
        "# model = Perceptron(max_iter= 40, eta0 = 0.1, random_state = 0)\n",
        "# # số lần học: max_iter \n",
        "# # eta0 :  tốc độ học  giá trị từ 0 đến 1\n",
        "# # random_state : trạng thái giá trị ngẫu nhiên\n",
        "\n",
        "# model.fit(X_train_std, y_train)\n",
        "# y_pred = model.predict(X_test_std)\n",
        "# print(y_pred)\n",
        "# print(y_test)\n",
        "# print('Độ chính xác mô hình: ', accuracy_score(y_test, y_pred))"
      ],
      "metadata": {
        "colab": {
          "base_uri": "https://localhost:8080/"
        },
        "id": "OX-FszxuAnxU",
        "outputId": "34b8be11-14af-4537-e861-071399d04943"
      },
      "execution_count": 1,
      "outputs": [
        {
          "output_type": "stream",
          "name": "stdout",
          "text": [
            "[[5.1 3.5 1.4 0.2]\n",
            " [4.9 3.  1.4 0.2]\n",
            " [4.7 3.2 1.3 0.2]\n",
            " [4.6 3.1 1.5 0.2]\n",
            " [5.  3.6 1.4 0.2]]\n",
            "[0 0 0 0 0]\n",
            "[[ 0.72776202 -0.51915423  0.41713543  0.31691049]\n",
            " [-0.33849396 -0.76581122  0.18691614  0.05070568]\n",
            " [-0.10154819 -0.51915423  0.70490954  1.51483216]\n",
            " [-0.57543973  2.19407265 -1.48217372 -1.14721598]\n",
            " [ 2.03096376 -0.02584026  1.56823188  1.11552493]] [[6.5 2.8 4.6 1.5]\n",
            " [5.6 2.7 4.2 1.3]\n",
            " [5.8 2.8 5.1 2.4]\n",
            " [5.4 3.9 1.3 0.4]\n",
            " [7.6 3.  6.6 2.1]]\n",
            "[0 0 0 0 0]\n",
            "[0 1 2 1 0 0 0 0 1 2 1 0 1 0 0 1 0 2 2 0 1 1 0 2 1 2 2 2 2 2 0 2 2 0 1 2 0\n",
            " 0 1 1 2 0 0 0 2]\n",
            "[0 1 2 1 0 0 0 0 1 2 1 0 1 0 0 1 0 1 1 0 1 1 0 2 1 2 2 1 2 2 0 2 2 0 1 2 0\n",
            " 0 1 1 2 0 0 0 2]\n",
            "Độ chính xác mô hình:  0.9333333333333333\n"
          ]
        }
      ]
    },
    {
      "cell_type": "code",
      "source": [
        "from sklearn.linear_model import Perceptron\n",
        "from sklearn.model_selection import train_test_split\n",
        "from sklearn.metrics import accuracy_score\n",
        "from sklearn.preprocessing import StandardScaler\n",
        "import pandas as pd\n",
        "import seaborn as sns\n",
        "\n"
      ],
      "metadata": {
        "id": "kNKieukAZ1Je"
      },
      "execution_count": 23,
      "outputs": []
    },
    {
      "cell_type": "code",
      "source": [
        "## doc du lieu va thay doi cac du lieu kieu string ve int dang 0,1\n",
        "url = 'crabs.csv'\n",
        "data = pd.read_csv(url)\n",
        "\n",
        "dataframe= pd.DataFrame(data)\n",
        "da=dataframe.replace(['B','O'],[0,1])\n",
        "data_new=da.replace(['M','F'],[0,1])\n",
        "print(data_new)"
      ],
      "metadata": {
        "colab": {
          "base_uri": "https://localhost:8080/"
        },
        "id": "2jiYO6jdanqi",
        "outputId": "54132047-086f-49dd-a4e6-56caa5aca8d6"
      },
      "execution_count": 20,
      "outputs": [
        {
          "output_type": "stream",
          "name": "stdout",
          "text": [
            "     speies  sex  index  fontallip  rearwidth  length  width  depth\n",
            "0         0    0      1        8.1        6.7    16.1   19.0    7.0\n",
            "1         0    0      2        8.8        7.7    18.1   20.8    7.4\n",
            "2         0    0      3        9.2        7.8    19.0   22.4    7.7\n",
            "3         0    0      4        9.6        7.9    20.1   23.1    8.2\n",
            "4         0    0      5        9.8        8.0    20.3   23.0    8.2\n",
            "..      ...  ...    ...        ...        ...     ...    ...    ...\n",
            "195       1    1     46       21.4       18.0    41.2   46.2   18.7\n",
            "196       1    1     47       21.7       17.1    41.7   47.2   19.6\n",
            "197       1    1     48       21.9       17.2    42.6   47.4   19.5\n",
            "198       1    1     49       22.5       17.2    43.0   48.7   19.8\n",
            "199       1    1     50       23.1       20.2    46.2   52.5   21.1\n",
            "\n",
            "[200 rows x 8 columns]\n"
          ]
        }
      ]
    },
    {
      "cell_type": "code",
      "source": [
        "corralation = data_new.corr()\n",
        "print(corralation)\n",
        "sns.heatmap(corralation, annot=True)"
      ],
      "metadata": {
        "colab": {
          "base_uri": "https://localhost:8080/",
          "height": 654
        },
        "id": "br1zyteWfoRi",
        "outputId": "a73b396f-d91c-4580-c196-e604e740d8ea"
      },
      "execution_count": 33,
      "outputs": [
        {
          "output_type": "stream",
          "name": "stdout",
          "text": [
            "                 speies           sex         index  fontallip  rearwidth  \\\n",
            "speies     1.000000e+00 -9.325873e-17  5.760810e-16   0.437966   0.315751   \n",
            "sex       -9.325873e-17  1.000000e+00  1.957198e-16  -0.043309   0.291597   \n",
            "index      5.760810e-16  1.957198e-16  1.000000e+00   0.862876   0.840040   \n",
            "fontallip  4.379655e-01 -4.330897e-02  8.628756e-01   1.000000   0.906988   \n",
            "rearwidth  3.157507e-01  2.915970e-01  8.400401e-01   0.906988   1.000000   \n",
            "length     2.883330e-01 -1.049828e-01  9.114357e-01   0.978842   0.892743   \n",
            "width      2.161801e-01 -7.443726e-02  9.282481e-01   0.964956   0.900402   \n",
            "depth      4.237165e-01 -8.971958e-02  8.644594e-01   0.987627   0.889205   \n",
            "\n",
            "             length     width     depth  \n",
            "speies     0.288333  0.216180  0.423716  \n",
            "sex       -0.104983 -0.074437 -0.089720  \n",
            "index      0.911436  0.928248  0.864459  \n",
            "fontallip  0.978842  0.964956  0.987627  \n",
            "rearwidth  0.892743  0.900402  0.889205  \n",
            "length     1.000000  0.995023  0.983204  \n",
            "width      0.995023  1.000000  0.967812  \n",
            "depth      0.983204  0.967812  1.000000  \n"
          ]
        },
        {
          "output_type": "execute_result",
          "data": {
            "text/plain": [
              "<Axes: >"
            ]
          },
          "metadata": {},
          "execution_count": 33
        },
        {
          "output_type": "display_data",
          "data": {
            "text/plain": [
              "<Figure size 432x288 with 2 Axes>"
            ],
            "image/png": "[encoded data removed]"
          },
          "metadata": {
            "needs_background": "light"
          }
        }
      ]
    },
    {
      "cell_type": "code",
      "source": [
        "x= data_new.drop('speies', axis=1)\n",
        "y= data_new['speies']\n",
        "print(x)"
      ],
      "metadata": {
        "colab": {
          "base_uri": "https://localhost:8080/"
        },
        "id": "jFGExjaPplHN",
        "outputId": "d8d38ed4-4f7c-42e0-c59c-99973361cfdb"
      },
      "execution_count": 40,
      "outputs": [
        {
          "output_type": "stream",
          "name": "stdout",
          "text": [
            "     sex  index  fontallip  rearwidth  length  width  depth\n",
            "0      0      1        8.1        6.7    16.1   19.0    7.0\n",
            "1      0      2        8.8        7.7    18.1   20.8    7.4\n",
            "2      0      3        9.2        7.8    19.0   22.4    7.7\n",
            "3      0      4        9.6        7.9    20.1   23.1    8.2\n",
            "4      0      5        9.8        8.0    20.3   23.0    8.2\n",
            "..   ...    ...        ...        ...     ...    ...    ...\n",
            "195    1     46       21.4       18.0    41.2   46.2   18.7\n",
            "196    1     47       21.7       17.1    41.7   47.2   19.6\n",
            "197    1     48       21.9       17.2    42.6   47.4   19.5\n",
            "198    1     49       22.5       17.2    43.0   48.7   19.8\n",
            "199    1     50       23.1       20.2    46.2   52.5   21.1\n",
            "\n",
            "[200 rows x 7 columns]\n"
          ]
        }
      ]
    },
    {
      "cell_type": "code",
      "source": [
        "X_train, X_test, y_train, y_test=train_test_split(x,y,test_size=0.3)\n",
        "sc=StandardScaler()\n",
        "sc.fit(X_train)\n",
        "X_train_std=sc.transform(X_train)\n",
        "X_test_std=sc.transform(X_test)\n",
        "print(X_train_std[:5], X_train[:5])\n",
        "print(y[:5])\n",
        "\n",
        "model= Perceptron(max_iter=50,eta0=0.1, random_state=0)\n",
        "# số lần học : max_iter\n",
        "# tốc độ học : eta0\n",
        "# random_state : trạng tháo giá trị ngẫu nhiên \n",
        "model.fit(X_train_std,y_train)\n",
        "y_pred=model.predict(X_test_std)\n",
        "print(y_pred)\n",
        "print(y_test)\n",
        "print('Độ chính xác mô hình:', accuracy_score(y_test,y_pred))"
      ],
      "metadata": {
        "colab": {
          "base_uri": "https://localhost:8080/"
        },
        "id": "h9N-whzHubRG",
        "outputId": "ac7eb052-21e5-4d8b-8271-03d56bbe3e9a"
      },
      "execution_count": 42,
      "outputs": [
        {
          "output_type": "stream",
          "name": "stdout",
          "text": [
            "[[-1.05887304 -1.59104246 -1.71831117 -2.13809142 -2.00355523 -2.10753022\n",
            "  -1.77818383]\n",
            " [ 0.94440028 -0.5954557  -1.00626055 -0.75436909 -0.90791316 -0.90555636\n",
            "  -0.94716435]\n",
            " [ 0.94440028  1.39571782  1.650236    2.01307558  1.2700095   1.24342722\n",
            "   1.35198955]\n",
            " [ 0.94440028  1.52846272  0.55477351  1.60169867  0.86916484  0.98846307\n",
            "   0.77027591]\n",
            " [-1.05887304 -0.9936904  -0.97887399 -0.79176699 -0.86782869 -0.80842716\n",
            "  -0.974865  ]]      sex  index  fontallip  rearwidth  length  width  depth\n",
            "100    0      1        9.1        6.9    16.7   18.6    7.4\n",
            "65     1     16       11.7       10.6    24.9   28.5   10.4\n",
            "195    1     46       21.4       18.0    41.2   46.2   18.7\n",
            "97     1     48       17.4       16.9    38.2   44.1   16.6\n",
            "9      0     10       11.8       10.5    25.2   29.3   10.3\n",
            "0    0\n",
            "1    0\n",
            "2    0\n",
            "3    0\n",
            "4    0\n",
            "Name: speies, dtype: int64\n",
            "[1 0 1 1 0 1 1 1 1 1 0 1 1 1 0 0 1 1 1 1 1 0 1 1 0 0 0 0 1 1 1 1 0 0 0 1 0\n",
            " 0 1 0 1 1 1 1 0 1 0 0 0 0 0 0 1 1 0 0 0 1 1 1]\n",
            "188    1\n",
            "17     0\n",
            "147    1\n",
            "119    1\n",
            "12     0\n",
            "170    1\n",
            "102    1\n",
            "139    1\n",
            "180    1\n",
            "171    1\n",
            "19     0\n",
            "110    1\n",
            "122    1\n",
            "123    1\n",
            "31     0\n",
            "70     0\n",
            "175    1\n",
            "140    1\n",
            "7      0\n",
            "133    1\n",
            "196    1\n",
            "43     0\n",
            "104    1\n",
            "163    1\n",
            "89     0\n",
            "32     0\n",
            "11     0\n",
            "47     0\n",
            "187    1\n",
            "164    1\n",
            "150    1\n",
            "121    1\n",
            "10     0\n",
            "38     0\n",
            "95     0\n",
            "129    1\n",
            "87     0\n",
            "68     0\n",
            "135    1\n",
            "86     0\n",
            "132    1\n",
            "127    1\n",
            "177    1\n",
            "191    1\n",
            "82     0\n",
            "193    1\n",
            "77     0\n",
            "69     0\n",
            "13     0\n",
            "67     0\n",
            "3      0\n",
            "49     0\n",
            "128    1\n",
            "182    1\n",
            "26     0\n",
            "25     0\n",
            "37     0\n",
            "162    1\n",
            "161    1\n",
            "113    1\n",
            "Name: speies, dtype: int64\n",
            "Độ chính xác mô hình: 0.9833333333333333\n"
          ]
        }
      ]
    }
  ]
}