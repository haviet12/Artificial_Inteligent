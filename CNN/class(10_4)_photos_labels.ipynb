{
  "nbformat": 4,
  "nbformat_minor": 0,
  "metadata": {
    "colab": {
      "provenance": [],
      "mount_file_id": "14Y3kOkW1Q6ERjvdkRbC2mp_KARzgrvpa",
      "authorship_tag": "ABX9TyPnO99xhMgqORShZ+9Rm2Os",
      "include_colab_link": true
    },
    "kernelspec": {
      "name": "python3",
      "display_name": "Python 3"
    },
    "language_info": {
      "name": "python"
    }
  },
  "cells": [
    {
      "cell_type": "markdown",
      "metadata": {
        "id": "view-in-github",
        "colab_type": "text"
      },
      "source": [
        "<a href=\"https://colab.research.google.com/github/haviet12/Artificial_Inteligent/blob/main/class(10_4)_photos_labels.ipynb\" target=\"_parent\"><img src=\"https://colab.research.google.com/assets/colab-badge.svg\" alt=\"Open In Colab\"/></a>"
      ]
    },
    {
      "cell_type": "code",
      "execution_count": null,
      "metadata": {
        "id": "1ZFtCPCPIv1i"
      },
      "outputs": [],
      "source": [
        "from os import listdir\n",
        "from numpy import asarray, save\n",
        "from keras.utils import load_img\n",
        "from keras.utils.image_utils import img_to_array\n"
      ]
    },
    {
      "cell_type": "code",
      "source": [
        "folder ='/content/drive/MyDrive/MyPicture/face_data/'\n",
        "photos, labels=list(), list()\n",
        "for file in listdir(folder):\n",
        "  output=0.0\n",
        "  if file.startswith('Ha'):\n",
        "    output=1.0\n",
        "  if file.startswith('hau'):\n",
        "    output=2.0\n",
        "  if file.startswith('minh'):\n",
        "    output=3.0\n",
        "  photo=load_img(folder+file)\n",
        "  photo =img_to_array(photo)\n",
        "  photos.append(photo)\n",
        "  labels.append(output)\n",
        "\n",
        "photos= asarray(photos)\n",
        "labels= asarray(labels)\n",
        "print(photos.shape, labels.shape)\n",
        "save('/content/drive/MyDrive/MyPicture/face_data/Ha_Hau_Minh_photos.npy',photos )\n",
        "save('/content/drive/MyDrive/MyPicture/face_data/Ha_Hau_Minh_labels.npy',labels )\n"
      ],
      "metadata": {
        "colab": {
          "base_uri": "https://localhost:8080/"
        },
        "id": "Fg3nhB0TJguZ",
        "outputId": "d547fcf1-21a2-4ca5-9cd5-e385c407c15f"
      },
      "execution_count": null,
      "outputs": [
        {
          "output_type": "stream",
          "name": "stdout",
          "text": [
            "(180, 40, 30, 3) (180,)\n"
          ]
        }
      ]
    }
  ]
}